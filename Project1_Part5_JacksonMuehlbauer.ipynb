{
  "nbformat": 4,
  "nbformat_minor": 0,
  "metadata": {
    "colab": {
      "provenance": [],
      "toc_visible": true,
      "authorship_tag": "ABX9TyPxk7coqlc8IfUpaJ7SH4ZC",
      "include_colab_link": true
    },
    "kernelspec": {
      "name": "python3",
      "display_name": "Python 3"
    },
    "language_info": {
      "name": "python"
    }
  },
  "cells": [
    {
      "cell_type": "markdown",
      "metadata": {
        "id": "view-in-github",
        "colab_type": "text"
      },
      "source": [
        "<a href=\"https://colab.research.google.com/github/JLMuehlbauer/food-sales-prediction/blob/main/Project1_Part5_JacksonMuehlbauer.ipynb\" target=\"_parent\"><img src=\"https://colab.research.google.com/assets/colab-badge.svg\" alt=\"Open In Colab\"/></a>"
      ]
    },
    {
      "cell_type": "markdown",
      "source": [
        "# Project 1 Part 5\n",
        "\n",
        "Jackson Muehlbauer\n",
        "\n",
        "Date: 12/15/2022"
      ],
      "metadata": {
        "id": "qkEUlKncaVGX"
      }
    },
    {
      "cell_type": "code",
      "execution_count": 1,
      "metadata": {
        "id": "Pmgp6Az19je4"
      },
      "outputs": [],
      "source": [
        "# Importing Libraries\n",
        "import pandas as pd\n",
        "import numpy as np\n",
        "from sklearn.model_selection import train_test_split\n",
        "from sklearn.preprocessing import StandardScaler\n",
        "from sklearn.compose import make_column_selector\n",
        "from sklearn.preprocessing import OneHotEncoder\n",
        "from sklearn.impute import SimpleImputer\n",
        "from sklearn.compose import make_column_transformer\n",
        "from sklearn.impute import SimpleImputer\n",
        "from sklearn import set_config\n",
        "set_config(display='diagram')\n",
        "from sklearn.pipeline import make_pipeline"
      ]
    },
    {
      "cell_type": "code",
      "source": [
        "# Mounting Drive\n",
        "from google.colab import drive\n",
        "drive.mount('/content/drive')"
      ],
      "metadata": {
        "colab": {
          "base_uri": "https://localhost:8080/"
        },
        "id": "gEnQDybC1Gbe",
        "outputId": "4a5db3cf-d500-4707-8255-cdf2fea3f616"
      },
      "execution_count": 2,
      "outputs": [
        {
          "output_type": "stream",
          "name": "stdout",
          "text": [
            "Mounted at /content/drive\n"
          ]
        }
      ]
    },
    {
      "cell_type": "code",
      "source": [
        "# Loading Data\n",
        "path = '/content/drive/My Drive/Colab Notebooks/Raw Data/sales_predictions (1).csv'\n",
        "df = pd.read_csv(path)\n",
        "\n",
        "df.head()"
      ],
      "metadata": {
        "colab": {
          "base_uri": "https://localhost:8080/",
          "height": 357
        },
        "id": "tSSgzwyl1P-g",
        "outputId": "406ce914-bcfb-4dc4-b819-9759e73a8a0f"
      },
      "execution_count": 3,
      "outputs": [
        {
          "output_type": "execute_result",
          "data": {
            "text/plain": [
              "  Item_Identifier  Item_Weight Item_Fat_Content  Item_Visibility  \\\n",
              "0           FDA15         9.30          Low Fat         0.016047   \n",
              "1           DRC01         5.92          Regular         0.019278   \n",
              "2           FDN15        17.50          Low Fat         0.016760   \n",
              "3           FDX07        19.20          Regular         0.000000   \n",
              "4           NCD19         8.93          Low Fat         0.000000   \n",
              "\n",
              "               Item_Type  Item_MRP Outlet_Identifier  \\\n",
              "0                  Dairy  249.8092            OUT049   \n",
              "1            Soft Drinks   48.2692            OUT018   \n",
              "2                   Meat  141.6180            OUT049   \n",
              "3  Fruits and Vegetables  182.0950            OUT010   \n",
              "4              Household   53.8614            OUT013   \n",
              "\n",
              "   Outlet_Establishment_Year Outlet_Size Outlet_Location_Type  \\\n",
              "0                       1999      Medium               Tier 1   \n",
              "1                       2009      Medium               Tier 3   \n",
              "2                       1999      Medium               Tier 1   \n",
              "3                       1998         NaN               Tier 3   \n",
              "4                       1987        High               Tier 3   \n",
              "\n",
              "         Outlet_Type  Item_Outlet_Sales  \n",
              "0  Supermarket Type1          3735.1380  \n",
              "1  Supermarket Type2           443.4228  \n",
              "2  Supermarket Type1          2097.2700  \n",
              "3      Grocery Store           732.3800  \n",
              "4  Supermarket Type1           994.7052  "
            ],
            "text/html": [
              "\n",
              "  <div id=\"df-d5e8c307-b301-40be-8d2c-ab707a7a5534\">\n",
              "    <div class=\"colab-df-container\">\n",
              "      <div>\n",
              "<style scoped>\n",
              "    .dataframe tbody tr th:only-of-type {\n",
              "        vertical-align: middle;\n",
              "    }\n",
              "\n",
              "    .dataframe tbody tr th {\n",
              "        vertical-align: top;\n",
              "    }\n",
              "\n",
              "    .dataframe thead th {\n",
              "        text-align: right;\n",
              "    }\n",
              "</style>\n",
              "<table border=\"1\" class=\"dataframe\">\n",
              "  <thead>\n",
              "    <tr style=\"text-align: right;\">\n",
              "      <th></th>\n",
              "      <th>Item_Identifier</th>\n",
              "      <th>Item_Weight</th>\n",
              "      <th>Item_Fat_Content</th>\n",
              "      <th>Item_Visibility</th>\n",
              "      <th>Item_Type</th>\n",
              "      <th>Item_MRP</th>\n",
              "      <th>Outlet_Identifier</th>\n",
              "      <th>Outlet_Establishment_Year</th>\n",
              "      <th>Outlet_Size</th>\n",
              "      <th>Outlet_Location_Type</th>\n",
              "      <th>Outlet_Type</th>\n",
              "      <th>Item_Outlet_Sales</th>\n",
              "    </tr>\n",
              "  </thead>\n",
              "  <tbody>\n",
              "    <tr>\n",
              "      <th>0</th>\n",
              "      <td>FDA15</td>\n",
              "      <td>9.30</td>\n",
              "      <td>Low Fat</td>\n",
              "      <td>0.016047</td>\n",
              "      <td>Dairy</td>\n",
              "      <td>249.8092</td>\n",
              "      <td>OUT049</td>\n",
              "      <td>1999</td>\n",
              "      <td>Medium</td>\n",
              "      <td>Tier 1</td>\n",
              "      <td>Supermarket Type1</td>\n",
              "      <td>3735.1380</td>\n",
              "    </tr>\n",
              "    <tr>\n",
              "      <th>1</th>\n",
              "      <td>DRC01</td>\n",
              "      <td>5.92</td>\n",
              "      <td>Regular</td>\n",
              "      <td>0.019278</td>\n",
              "      <td>Soft Drinks</td>\n",
              "      <td>48.2692</td>\n",
              "      <td>OUT018</td>\n",
              "      <td>2009</td>\n",
              "      <td>Medium</td>\n",
              "      <td>Tier 3</td>\n",
              "      <td>Supermarket Type2</td>\n",
              "      <td>443.4228</td>\n",
              "    </tr>\n",
              "    <tr>\n",
              "      <th>2</th>\n",
              "      <td>FDN15</td>\n",
              "      <td>17.50</td>\n",
              "      <td>Low Fat</td>\n",
              "      <td>0.016760</td>\n",
              "      <td>Meat</td>\n",
              "      <td>141.6180</td>\n",
              "      <td>OUT049</td>\n",
              "      <td>1999</td>\n",
              "      <td>Medium</td>\n",
              "      <td>Tier 1</td>\n",
              "      <td>Supermarket Type1</td>\n",
              "      <td>2097.2700</td>\n",
              "    </tr>\n",
              "    <tr>\n",
              "      <th>3</th>\n",
              "      <td>FDX07</td>\n",
              "      <td>19.20</td>\n",
              "      <td>Regular</td>\n",
              "      <td>0.000000</td>\n",
              "      <td>Fruits and Vegetables</td>\n",
              "      <td>182.0950</td>\n",
              "      <td>OUT010</td>\n",
              "      <td>1998</td>\n",
              "      <td>NaN</td>\n",
              "      <td>Tier 3</td>\n",
              "      <td>Grocery Store</td>\n",
              "      <td>732.3800</td>\n",
              "    </tr>\n",
              "    <tr>\n",
              "      <th>4</th>\n",
              "      <td>NCD19</td>\n",
              "      <td>8.93</td>\n",
              "      <td>Low Fat</td>\n",
              "      <td>0.000000</td>\n",
              "      <td>Household</td>\n",
              "      <td>53.8614</td>\n",
              "      <td>OUT013</td>\n",
              "      <td>1987</td>\n",
              "      <td>High</td>\n",
              "      <td>Tier 3</td>\n",
              "      <td>Supermarket Type1</td>\n",
              "      <td>994.7052</td>\n",
              "    </tr>\n",
              "  </tbody>\n",
              "</table>\n",
              "</div>\n",
              "      <button class=\"colab-df-convert\" onclick=\"convertToInteractive('df-d5e8c307-b301-40be-8d2c-ab707a7a5534')\"\n",
              "              title=\"Convert this dataframe to an interactive table.\"\n",
              "              style=\"display:none;\">\n",
              "        \n",
              "  <svg xmlns=\"http://www.w3.org/2000/svg\" height=\"24px\"viewBox=\"0 0 24 24\"\n",
              "       width=\"24px\">\n",
              "    <path d=\"M0 0h24v24H0V0z\" fill=\"none\"/>\n",
              "    <path d=\"M18.56 5.44l.94 2.06.94-2.06 2.06-.94-2.06-.94-.94-2.06-.94 2.06-2.06.94zm-11 1L8.5 8.5l.94-2.06 2.06-.94-2.06-.94L8.5 2.5l-.94 2.06-2.06.94zm10 10l.94 2.06.94-2.06 2.06-.94-2.06-.94-.94-2.06-.94 2.06-2.06.94z\"/><path d=\"M17.41 7.96l-1.37-1.37c-.4-.4-.92-.59-1.43-.59-.52 0-1.04.2-1.43.59L10.3 9.45l-7.72 7.72c-.78.78-.78 2.05 0 2.83L4 21.41c.39.39.9.59 1.41.59.51 0 1.02-.2 1.41-.59l7.78-7.78 2.81-2.81c.8-.78.8-2.07 0-2.86zM5.41 20L4 18.59l7.72-7.72 1.47 1.35L5.41 20z\"/>\n",
              "  </svg>\n",
              "      </button>\n",
              "      \n",
              "  <style>\n",
              "    .colab-df-container {\n",
              "      display:flex;\n",
              "      flex-wrap:wrap;\n",
              "      gap: 12px;\n",
              "    }\n",
              "\n",
              "    .colab-df-convert {\n",
              "      background-color: #E8F0FE;\n",
              "      border: none;\n",
              "      border-radius: 50%;\n",
              "      cursor: pointer;\n",
              "      display: none;\n",
              "      fill: #1967D2;\n",
              "      height: 32px;\n",
              "      padding: 0 0 0 0;\n",
              "      width: 32px;\n",
              "    }\n",
              "\n",
              "    .colab-df-convert:hover {\n",
              "      background-color: #E2EBFA;\n",
              "      box-shadow: 0px 1px 2px rgba(60, 64, 67, 0.3), 0px 1px 3px 1px rgba(60, 64, 67, 0.15);\n",
              "      fill: #174EA6;\n",
              "    }\n",
              "\n",
              "    [theme=dark] .colab-df-convert {\n",
              "      background-color: #3B4455;\n",
              "      fill: #D2E3FC;\n",
              "    }\n",
              "\n",
              "    [theme=dark] .colab-df-convert:hover {\n",
              "      background-color: #434B5C;\n",
              "      box-shadow: 0px 1px 3px 1px rgba(0, 0, 0, 0.15);\n",
              "      filter: drop-shadow(0px 1px 2px rgba(0, 0, 0, 0.3));\n",
              "      fill: #FFFFFF;\n",
              "    }\n",
              "  </style>\n",
              "\n",
              "      <script>\n",
              "        const buttonEl =\n",
              "          document.querySelector('#df-d5e8c307-b301-40be-8d2c-ab707a7a5534 button.colab-df-convert');\n",
              "        buttonEl.style.display =\n",
              "          google.colab.kernel.accessAllowed ? 'block' : 'none';\n",
              "\n",
              "        async function convertToInteractive(key) {\n",
              "          const element = document.querySelector('#df-d5e8c307-b301-40be-8d2c-ab707a7a5534');\n",
              "          const dataTable =\n",
              "            await google.colab.kernel.invokeFunction('convertToInteractive',\n",
              "                                                     [key], {});\n",
              "          if (!dataTable) return;\n",
              "\n",
              "          const docLinkHtml = 'Like what you see? Visit the ' +\n",
              "            '<a target=\"_blank\" href=https://colab.research.google.com/notebooks/data_table.ipynb>data table notebook</a>'\n",
              "            + ' to learn more about interactive tables.';\n",
              "          element.innerHTML = '';\n",
              "          dataTable['output_type'] = 'display_data';\n",
              "          await google.colab.output.renderOutput(dataTable, element);\n",
              "          const docLink = document.createElement('div');\n",
              "          docLink.innerHTML = docLinkHtml;\n",
              "          element.appendChild(docLink);\n",
              "        }\n",
              "      </script>\n",
              "    </div>\n",
              "  </div>\n",
              "  "
            ]
          },
          "metadata": {},
          "execution_count": 3
        }
      ]
    },
    {
      "cell_type": "markdown",
      "source": [
        "## Cleaning Data\n",
        "- Dropping Duplicates\n",
        "- Fixing inconsistencies"
      ],
      "metadata": {
        "id": "UeP1RRJZ1zZk"
      }
    },
    {
      "cell_type": "code",
      "source": [
        "# Making df copy for insurance\n",
        "df_ml = df.copy()\n",
        "df_ml.head()"
      ],
      "metadata": {
        "colab": {
          "base_uri": "https://localhost:8080/",
          "height": 357
        },
        "id": "6aEVGhau10dV",
        "outputId": "f8b98ba0-697b-4c86-bec2-fc234741e34f"
      },
      "execution_count": 4,
      "outputs": [
        {
          "output_type": "execute_result",
          "data": {
            "text/plain": [
              "  Item_Identifier  Item_Weight Item_Fat_Content  Item_Visibility  \\\n",
              "0           FDA15         9.30          Low Fat         0.016047   \n",
              "1           DRC01         5.92          Regular         0.019278   \n",
              "2           FDN15        17.50          Low Fat         0.016760   \n",
              "3           FDX07        19.20          Regular         0.000000   \n",
              "4           NCD19         8.93          Low Fat         0.000000   \n",
              "\n",
              "               Item_Type  Item_MRP Outlet_Identifier  \\\n",
              "0                  Dairy  249.8092            OUT049   \n",
              "1            Soft Drinks   48.2692            OUT018   \n",
              "2                   Meat  141.6180            OUT049   \n",
              "3  Fruits and Vegetables  182.0950            OUT010   \n",
              "4              Household   53.8614            OUT013   \n",
              "\n",
              "   Outlet_Establishment_Year Outlet_Size Outlet_Location_Type  \\\n",
              "0                       1999      Medium               Tier 1   \n",
              "1                       2009      Medium               Tier 3   \n",
              "2                       1999      Medium               Tier 1   \n",
              "3                       1998         NaN               Tier 3   \n",
              "4                       1987        High               Tier 3   \n",
              "\n",
              "         Outlet_Type  Item_Outlet_Sales  \n",
              "0  Supermarket Type1          3735.1380  \n",
              "1  Supermarket Type2           443.4228  \n",
              "2  Supermarket Type1          2097.2700  \n",
              "3      Grocery Store           732.3800  \n",
              "4  Supermarket Type1           994.7052  "
            ],
            "text/html": [
              "\n",
              "  <div id=\"df-a16f27ef-949f-4303-bf58-34747eb95452\">\n",
              "    <div class=\"colab-df-container\">\n",
              "      <div>\n",
              "<style scoped>\n",
              "    .dataframe tbody tr th:only-of-type {\n",
              "        vertical-align: middle;\n",
              "    }\n",
              "\n",
              "    .dataframe tbody tr th {\n",
              "        vertical-align: top;\n",
              "    }\n",
              "\n",
              "    .dataframe thead th {\n",
              "        text-align: right;\n",
              "    }\n",
              "</style>\n",
              "<table border=\"1\" class=\"dataframe\">\n",
              "  <thead>\n",
              "    <tr style=\"text-align: right;\">\n",
              "      <th></th>\n",
              "      <th>Item_Identifier</th>\n",
              "      <th>Item_Weight</th>\n",
              "      <th>Item_Fat_Content</th>\n",
              "      <th>Item_Visibility</th>\n",
              "      <th>Item_Type</th>\n",
              "      <th>Item_MRP</th>\n",
              "      <th>Outlet_Identifier</th>\n",
              "      <th>Outlet_Establishment_Year</th>\n",
              "      <th>Outlet_Size</th>\n",
              "      <th>Outlet_Location_Type</th>\n",
              "      <th>Outlet_Type</th>\n",
              "      <th>Item_Outlet_Sales</th>\n",
              "    </tr>\n",
              "  </thead>\n",
              "  <tbody>\n",
              "    <tr>\n",
              "      <th>0</th>\n",
              "      <td>FDA15</td>\n",
              "      <td>9.30</td>\n",
              "      <td>Low Fat</td>\n",
              "      <td>0.016047</td>\n",
              "      <td>Dairy</td>\n",
              "      <td>249.8092</td>\n",
              "      <td>OUT049</td>\n",
              "      <td>1999</td>\n",
              "      <td>Medium</td>\n",
              "      <td>Tier 1</td>\n",
              "      <td>Supermarket Type1</td>\n",
              "      <td>3735.1380</td>\n",
              "    </tr>\n",
              "    <tr>\n",
              "      <th>1</th>\n",
              "      <td>DRC01</td>\n",
              "      <td>5.92</td>\n",
              "      <td>Regular</td>\n",
              "      <td>0.019278</td>\n",
              "      <td>Soft Drinks</td>\n",
              "      <td>48.2692</td>\n",
              "      <td>OUT018</td>\n",
              "      <td>2009</td>\n",
              "      <td>Medium</td>\n",
              "      <td>Tier 3</td>\n",
              "      <td>Supermarket Type2</td>\n",
              "      <td>443.4228</td>\n",
              "    </tr>\n",
              "    <tr>\n",
              "      <th>2</th>\n",
              "      <td>FDN15</td>\n",
              "      <td>17.50</td>\n",
              "      <td>Low Fat</td>\n",
              "      <td>0.016760</td>\n",
              "      <td>Meat</td>\n",
              "      <td>141.6180</td>\n",
              "      <td>OUT049</td>\n",
              "      <td>1999</td>\n",
              "      <td>Medium</td>\n",
              "      <td>Tier 1</td>\n",
              "      <td>Supermarket Type1</td>\n",
              "      <td>2097.2700</td>\n",
              "    </tr>\n",
              "    <tr>\n",
              "      <th>3</th>\n",
              "      <td>FDX07</td>\n",
              "      <td>19.20</td>\n",
              "      <td>Regular</td>\n",
              "      <td>0.000000</td>\n",
              "      <td>Fruits and Vegetables</td>\n",
              "      <td>182.0950</td>\n",
              "      <td>OUT010</td>\n",
              "      <td>1998</td>\n",
              "      <td>NaN</td>\n",
              "      <td>Tier 3</td>\n",
              "      <td>Grocery Store</td>\n",
              "      <td>732.3800</td>\n",
              "    </tr>\n",
              "    <tr>\n",
              "      <th>4</th>\n",
              "      <td>NCD19</td>\n",
              "      <td>8.93</td>\n",
              "      <td>Low Fat</td>\n",
              "      <td>0.000000</td>\n",
              "      <td>Household</td>\n",
              "      <td>53.8614</td>\n",
              "      <td>OUT013</td>\n",
              "      <td>1987</td>\n",
              "      <td>High</td>\n",
              "      <td>Tier 3</td>\n",
              "      <td>Supermarket Type1</td>\n",
              "      <td>994.7052</td>\n",
              "    </tr>\n",
              "  </tbody>\n",
              "</table>\n",
              "</div>\n",
              "      <button class=\"colab-df-convert\" onclick=\"convertToInteractive('df-a16f27ef-949f-4303-bf58-34747eb95452')\"\n",
              "              title=\"Convert this dataframe to an interactive table.\"\n",
              "              style=\"display:none;\">\n",
              "        \n",
              "  <svg xmlns=\"http://www.w3.org/2000/svg\" height=\"24px\"viewBox=\"0 0 24 24\"\n",
              "       width=\"24px\">\n",
              "    <path d=\"M0 0h24v24H0V0z\" fill=\"none\"/>\n",
              "    <path d=\"M18.56 5.44l.94 2.06.94-2.06 2.06-.94-2.06-.94-.94-2.06-.94 2.06-2.06.94zm-11 1L8.5 8.5l.94-2.06 2.06-.94-2.06-.94L8.5 2.5l-.94 2.06-2.06.94zm10 10l.94 2.06.94-2.06 2.06-.94-2.06-.94-.94-2.06-.94 2.06-2.06.94z\"/><path d=\"M17.41 7.96l-1.37-1.37c-.4-.4-.92-.59-1.43-.59-.52 0-1.04.2-1.43.59L10.3 9.45l-7.72 7.72c-.78.78-.78 2.05 0 2.83L4 21.41c.39.39.9.59 1.41.59.51 0 1.02-.2 1.41-.59l7.78-7.78 2.81-2.81c.8-.78.8-2.07 0-2.86zM5.41 20L4 18.59l7.72-7.72 1.47 1.35L5.41 20z\"/>\n",
              "  </svg>\n",
              "      </button>\n",
              "      \n",
              "  <style>\n",
              "    .colab-df-container {\n",
              "      display:flex;\n",
              "      flex-wrap:wrap;\n",
              "      gap: 12px;\n",
              "    }\n",
              "\n",
              "    .colab-df-convert {\n",
              "      background-color: #E8F0FE;\n",
              "      border: none;\n",
              "      border-radius: 50%;\n",
              "      cursor: pointer;\n",
              "      display: none;\n",
              "      fill: #1967D2;\n",
              "      height: 32px;\n",
              "      padding: 0 0 0 0;\n",
              "      width: 32px;\n",
              "    }\n",
              "\n",
              "    .colab-df-convert:hover {\n",
              "      background-color: #E2EBFA;\n",
              "      box-shadow: 0px 1px 2px rgba(60, 64, 67, 0.3), 0px 1px 3px 1px rgba(60, 64, 67, 0.15);\n",
              "      fill: #174EA6;\n",
              "    }\n",
              "\n",
              "    [theme=dark] .colab-df-convert {\n",
              "      background-color: #3B4455;\n",
              "      fill: #D2E3FC;\n",
              "    }\n",
              "\n",
              "    [theme=dark] .colab-df-convert:hover {\n",
              "      background-color: #434B5C;\n",
              "      box-shadow: 0px 1px 3px 1px rgba(0, 0, 0, 0.15);\n",
              "      filter: drop-shadow(0px 1px 2px rgba(0, 0, 0, 0.3));\n",
              "      fill: #FFFFFF;\n",
              "    }\n",
              "  </style>\n",
              "\n",
              "      <script>\n",
              "        const buttonEl =\n",
              "          document.querySelector('#df-a16f27ef-949f-4303-bf58-34747eb95452 button.colab-df-convert');\n",
              "        buttonEl.style.display =\n",
              "          google.colab.kernel.accessAllowed ? 'block' : 'none';\n",
              "\n",
              "        async function convertToInteractive(key) {\n",
              "          const element = document.querySelector('#df-a16f27ef-949f-4303-bf58-34747eb95452');\n",
              "          const dataTable =\n",
              "            await google.colab.kernel.invokeFunction('convertToInteractive',\n",
              "                                                     [key], {});\n",
              "          if (!dataTable) return;\n",
              "\n",
              "          const docLinkHtml = 'Like what you see? Visit the ' +\n",
              "            '<a target=\"_blank\" href=https://colab.research.google.com/notebooks/data_table.ipynb>data table notebook</a>'\n",
              "            + ' to learn more about interactive tables.';\n",
              "          element.innerHTML = '';\n",
              "          dataTable['output_type'] = 'display_data';\n",
              "          await google.colab.output.renderOutput(dataTable, element);\n",
              "          const docLink = document.createElement('div');\n",
              "          docLink.innerHTML = docLinkHtml;\n",
              "          element.appendChild(docLink);\n",
              "        }\n",
              "      </script>\n",
              "    </div>\n",
              "  </div>\n",
              "  "
            ]
          },
          "metadata": {},
          "execution_count": 4
        }
      ]
    },
    {
      "cell_type": "code",
      "source": [
        "df_ml.duplicated().sum()"
      ],
      "metadata": {
        "colab": {
          "base_uri": "https://localhost:8080/"
        },
        "id": "y_3XKqOV2OBW",
        "outputId": "36cc9085-d640-402c-99a4-24c4bf4ce413"
      },
      "execution_count": 5,
      "outputs": [
        {
          "output_type": "execute_result",
          "data": {
            "text/plain": [
              "0"
            ]
          },
          "metadata": {},
          "execution_count": 5
        }
      ]
    },
    {
      "cell_type": "markdown",
      "source": [
        "There are no duplicated rows in this dataset"
      ],
      "metadata": {
        "id": "TE6QWzPF2VHs"
      }
    },
    {
      "cell_type": "code",
      "source": [
        "# looking at the values and the number of unique values in each categorical column\n",
        "for column in df_ml.select_dtypes(['object']).columns:\n",
        "  print(column)\n",
        "  print(df_ml[column].value_counts())\n",
        "  print(df_ml[column].nunique(), '\\n')\n"
      ],
      "metadata": {
        "colab": {
          "base_uri": "https://localhost:8080/"
        },
        "id": "XXl6txhz2YRp",
        "outputId": "4596a2bb-5350-4169-a892-4871adf50b2f"
      },
      "execution_count": 6,
      "outputs": [
        {
          "output_type": "stream",
          "name": "stdout",
          "text": [
            "Item_Identifier\n",
            "FDW13    10\n",
            "FDG33    10\n",
            "NCY18     9\n",
            "FDD38     9\n",
            "DRE49     9\n",
            "         ..\n",
            "FDY43     1\n",
            "FDQ60     1\n",
            "FDO33     1\n",
            "DRF48     1\n",
            "FDC23     1\n",
            "Name: Item_Identifier, Length: 1559, dtype: int64\n",
            "1559 \n",
            "\n",
            "Item_Fat_Content\n",
            "Low Fat    5089\n",
            "Regular    2889\n",
            "LF          316\n",
            "reg         117\n",
            "low fat     112\n",
            "Name: Item_Fat_Content, dtype: int64\n",
            "5 \n",
            "\n",
            "Item_Type\n",
            "Fruits and Vegetables    1232\n",
            "Snack Foods              1200\n",
            "Household                 910\n",
            "Frozen Foods              856\n",
            "Dairy                     682\n",
            "Canned                    649\n",
            "Baking Goods              648\n",
            "Health and Hygiene        520\n",
            "Soft Drinks               445\n",
            "Meat                      425\n",
            "Breads                    251\n",
            "Hard Drinks               214\n",
            "Others                    169\n",
            "Starchy Foods             148\n",
            "Breakfast                 110\n",
            "Seafood                    64\n",
            "Name: Item_Type, dtype: int64\n",
            "16 \n",
            "\n",
            "Outlet_Identifier\n",
            "OUT027    935\n",
            "OUT013    932\n",
            "OUT049    930\n",
            "OUT046    930\n",
            "OUT035    930\n",
            "OUT045    929\n",
            "OUT018    928\n",
            "OUT017    926\n",
            "OUT010    555\n",
            "OUT019    528\n",
            "Name: Outlet_Identifier, dtype: int64\n",
            "10 \n",
            "\n",
            "Outlet_Size\n",
            "Medium    2793\n",
            "Small     2388\n",
            "High       932\n",
            "Name: Outlet_Size, dtype: int64\n",
            "3 \n",
            "\n",
            "Outlet_Location_Type\n",
            "Tier 3    3350\n",
            "Tier 2    2785\n",
            "Tier 1    2388\n",
            "Name: Outlet_Location_Type, dtype: int64\n",
            "3 \n",
            "\n",
            "Outlet_Type\n",
            "Supermarket Type1    5577\n",
            "Grocery Store        1083\n",
            "Supermarket Type3     935\n",
            "Supermarket Type2     928\n",
            "Name: Outlet_Type, dtype: int64\n",
            "4 \n",
            "\n"
          ]
        }
      ]
    },
    {
      "cell_type": "markdown",
      "source": [
        "There are inconsistencies in the Item_Fat_Content column. We know that the only categories for this column are Low Fat and Regular. Thus, it should be safe from a \"data leakage\" perspective to correct these inconsistencies on the entire data set. I will use .replace(dict) on the entire data set. "
      ],
      "metadata": {
        "id": "z9v7e0dX4hGu"
      }
    },
    {
      "cell_type": "code",
      "source": [
        "replace_dict = {'LF': 'Low Fat',\n",
        "                'low fat': 'Low Fat',\n",
        "                'reg' : 'Low Fat'}\n",
        "# Applying the replacement\n",
        "df_ml['Item_Fat_Content'].replace(replace_dict, inplace = True)\n",
        "\n",
        "# Checking that changes were applied\n",
        "df_ml['Item_Fat_Content'].value_counts()"
      ],
      "metadata": {
        "colab": {
          "base_uri": "https://localhost:8080/"
        },
        "id": "_sqferRf4VG6",
        "outputId": "3e8c2232-e0c7-4f66-cb75-64faebaa4973"
      },
      "execution_count": 7,
      "outputs": [
        {
          "output_type": "execute_result",
          "data": {
            "text/plain": [
              "Low Fat    5634\n",
              "Regular    2889\n",
              "Name: Item_Fat_Content, dtype: int64"
            ]
          },
          "metadata": {},
          "execution_count": 7
        }
      ]
    },
    {
      "cell_type": "markdown",
      "source": [
        "I also noticed before that the Item_Identifier column is categorical and has many unique entries and the largest value count is only 10. For the purpose of machine learning, this will not be a useful feature. Therefore, I will drop this column."
      ],
      "metadata": {
        "id": "jeyy2e-c5tvD"
      }
    },
    {
      "cell_type": "code",
      "source": [
        "# Dropping the Item_Identifier column\n",
        "df_ml.drop(columns = ['Item_Identifier'], inplace = True)\n",
        "\n",
        "# Checking the drop\n",
        "df_ml.info()"
      ],
      "metadata": {
        "colab": {
          "base_uri": "https://localhost:8080/"
        },
        "id": "YoKGY6_Z6S-i",
        "outputId": "d515cb04-cac8-4e87-bb2e-ac96394d133c"
      },
      "execution_count": 8,
      "outputs": [
        {
          "output_type": "stream",
          "name": "stdout",
          "text": [
            "<class 'pandas.core.frame.DataFrame'>\n",
            "RangeIndex: 8523 entries, 0 to 8522\n",
            "Data columns (total 11 columns):\n",
            " #   Column                     Non-Null Count  Dtype  \n",
            "---  ------                     --------------  -----  \n",
            " 0   Item_Weight                7060 non-null   float64\n",
            " 1   Item_Fat_Content           8523 non-null   object \n",
            " 2   Item_Visibility            8523 non-null   float64\n",
            " 3   Item_Type                  8523 non-null   object \n",
            " 4   Item_MRP                   8523 non-null   float64\n",
            " 5   Outlet_Identifier          8523 non-null   object \n",
            " 6   Outlet_Establishment_Year  8523 non-null   int64  \n",
            " 7   Outlet_Size                6113 non-null   object \n",
            " 8   Outlet_Location_Type       8523 non-null   object \n",
            " 9   Outlet_Type                8523 non-null   object \n",
            " 10  Item_Outlet_Sales          8523 non-null   float64\n",
            "dtypes: float64(4), int64(1), object(6)\n",
            "memory usage: 732.6+ KB\n"
          ]
        }
      ]
    },
    {
      "cell_type": "markdown",
      "source": [
        "From above, I noticed that one (or more) of the categorical features are ordinal.\n",
        "- Outlet_Size has Small, Medium, and High\n",
        "- Outlet_Location_Type and Outlet_Type have categories with numbering... However, without more information about Tier 1, Tier 2, Supermarket1, Supermarket2 describe, I will consider these both as nominal features for now. \n",
        "- Item_Fat_Content could also be considered ordinal. There is a low and medium level of fat, but there are only two options so I don't know if there's very much value in considering this feature as ordinal. \n",
        "\n",
        "I will plan to ordinal encode Outlet_Size with .replace() on the full dataset. This encoding is done without information from the \"test\" set so it should not correspond to a data leak."
      ],
      "metadata": {
        "id": "6HIKEnKb7LFn"
      }
    },
    {
      "cell_type": "code",
      "source": [
        "# Ordinal encoding Outlet_Size\n",
        "ordinal_dict = {'Small':0,\n",
        "                'Medium': 1,\n",
        "                'High': 2}\n",
        "\n",
        "# Encoding\n",
        "df_ml['Outlet_Size'].replace(ordinal_dict, inplace = True)\n",
        "\n",
        "# Checking column and dtype\n",
        "df_ml['Outlet_Size'].head()"
      ],
      "metadata": {
        "colab": {
          "base_uri": "https://localhost:8080/"
        },
        "id": "oT4kcuCA_rgS",
        "outputId": "a748f96b-1c8b-48d0-f617-6bead5cdf57b"
      },
      "execution_count": 9,
      "outputs": [
        {
          "output_type": "execute_result",
          "data": {
            "text/plain": [
              "0    1.0\n",
              "1    1.0\n",
              "2    1.0\n",
              "3    NaN\n",
              "4    2.0\n",
              "Name: Outlet_Size, dtype: float64"
            ]
          },
          "metadata": {},
          "execution_count": 9
        }
      ]
    },
    {
      "cell_type": "code",
      "source": [
        "# Checking for null values\n",
        "print(df_ml.info(), '\\n')\n",
        "print(df_ml.isna().sum())\n"
      ],
      "metadata": {
        "colab": {
          "base_uri": "https://localhost:8080/"
        },
        "id": "w6v9_uaPAXde",
        "outputId": "b31a0c7a-62dc-4bbd-db81-156525d3cead"
      },
      "execution_count": 10,
      "outputs": [
        {
          "output_type": "stream",
          "name": "stdout",
          "text": [
            "<class 'pandas.core.frame.DataFrame'>\n",
            "RangeIndex: 8523 entries, 0 to 8522\n",
            "Data columns (total 11 columns):\n",
            " #   Column                     Non-Null Count  Dtype  \n",
            "---  ------                     --------------  -----  \n",
            " 0   Item_Weight                7060 non-null   float64\n",
            " 1   Item_Fat_Content           8523 non-null   object \n",
            " 2   Item_Visibility            8523 non-null   float64\n",
            " 3   Item_Type                  8523 non-null   object \n",
            " 4   Item_MRP                   8523 non-null   float64\n",
            " 5   Outlet_Identifier          8523 non-null   object \n",
            " 6   Outlet_Establishment_Year  8523 non-null   int64  \n",
            " 7   Outlet_Size                6113 non-null   float64\n",
            " 8   Outlet_Location_Type       8523 non-null   object \n",
            " 9   Outlet_Type                8523 non-null   object \n",
            " 10  Item_Outlet_Sales          8523 non-null   float64\n",
            "dtypes: float64(5), int64(1), object(5)\n",
            "memory usage: 732.6+ KB\n",
            "None \n",
            "\n",
            "Item_Weight                  1463\n",
            "Item_Fat_Content                0\n",
            "Item_Visibility                 0\n",
            "Item_Type                       0\n",
            "Item_MRP                        0\n",
            "Outlet_Identifier               0\n",
            "Outlet_Establishment_Year       0\n",
            "Outlet_Size                  2410\n",
            "Outlet_Location_Type            0\n",
            "Outlet_Type                     0\n",
            "Item_Outlet_Sales               0\n",
            "dtype: int64\n"
          ]
        }
      ]
    },
    {
      "cell_type": "markdown",
      "source": [
        "There are missing values in both the Item_Weight and Outlet_Size columns. Both of these columns are numerical, the missing values will need to be imputed after splitting our data."
      ],
      "metadata": {
        "id": "QPClzamyAp_O"
      }
    },
    {
      "cell_type": "markdown",
      "source": [
        "## Splitting and Preprocessing Data\n",
        "\n",
        "> Indented block\n",
        "\n"
      ],
      "metadata": {
        "id": "XTJ_tp1jBGnp"
      }
    },
    {
      "cell_type": "code",
      "source": [
        "# Target and Feature Matrix\n",
        "target = 'Item_Outlet_Sales'\n",
        "X = df_ml.drop(columns = [target])\n",
        "y = df_ml[target]\n",
        "\n",
        "print(X.head())\n",
        "print(y.head())"
      ],
      "metadata": {
        "colab": {
          "base_uri": "https://localhost:8080/"
        },
        "id": "mgWwWLq3BXcI",
        "outputId": "da875008-f7e6-442b-910c-e1bea7c553eb"
      },
      "execution_count": 11,
      "outputs": [
        {
          "output_type": "stream",
          "name": "stdout",
          "text": [
            "   Item_Weight Item_Fat_Content  Item_Visibility              Item_Type  \\\n",
            "0         9.30          Low Fat         0.016047                  Dairy   \n",
            "1         5.92          Regular         0.019278            Soft Drinks   \n",
            "2        17.50          Low Fat         0.016760                   Meat   \n",
            "3        19.20          Regular         0.000000  Fruits and Vegetables   \n",
            "4         8.93          Low Fat         0.000000              Household   \n",
            "\n",
            "   Item_MRP Outlet_Identifier  Outlet_Establishment_Year  Outlet_Size  \\\n",
            "0  249.8092            OUT049                       1999          1.0   \n",
            "1   48.2692            OUT018                       2009          1.0   \n",
            "2  141.6180            OUT049                       1999          1.0   \n",
            "3  182.0950            OUT010                       1998          NaN   \n",
            "4   53.8614            OUT013                       1987          2.0   \n",
            "\n",
            "  Outlet_Location_Type        Outlet_Type  \n",
            "0               Tier 1  Supermarket Type1  \n",
            "1               Tier 3  Supermarket Type2  \n",
            "2               Tier 1  Supermarket Type1  \n",
            "3               Tier 3      Grocery Store  \n",
            "4               Tier 3  Supermarket Type1  \n",
            "0    3735.1380\n",
            "1     443.4228\n",
            "2    2097.2700\n",
            "3     732.3800\n",
            "4     994.7052\n",
            "Name: Item_Outlet_Sales, dtype: float64\n"
          ]
        }
      ]
    },
    {
      "cell_type": "code",
      "source": [
        "# Splitting data into train and test\n",
        "\n",
        "X_train, X_test, y_train, y_test = train_test_split(X, y, random_state = 42)"
      ],
      "metadata": {
        "id": "lAvFwNywB_xb"
      },
      "execution_count": 12,
      "outputs": []
    },
    {
      "cell_type": "code",
      "source": [
        "# Instantiate Column Selectors\n",
        "cat_selector = make_column_selector(dtype_include = 'object')\n",
        "num_selector = make_column_selector(dtype_include = 'number')\n"
      ],
      "metadata": {
        "id": "7aBmLBl7CLU6"
      },
      "execution_count": 13,
      "outputs": []
    },
    {
      "cell_type": "code",
      "source": [
        "# Instantiate numerical imputer to fill missing values\n",
        "# I chose the mean as I have no reason to believe I shouldn't. \n",
        "# When I had originally explored this data, the Item_Weight and Outlet_Size where not abnormally distributed.\n",
        "# I could have also chosen to use the median.\n",
        "\n",
        "num_imputer = SimpleImputer(strategy = 'mean')\n",
        "\n",
        "# No need for categorical imputer\n",
        "\n"
      ],
      "metadata": {
        "id": "zvyP21S7CiUr"
      },
      "execution_count": 14,
      "outputs": []
    },
    {
      "cell_type": "code",
      "source": [
        "# Instantiate StandardScaler and OneHotEncoder\n",
        "scaler = StandardScaler()\n",
        "ohe = OneHotEncoder(sparse = False, handle_unknown = 'ignore')\n"
      ],
      "metadata": {
        "id": "1omYyg8ODk2x"
      },
      "execution_count": 15,
      "outputs": []
    },
    {
      "cell_type": "code",
      "source": [
        "# Making a pipeline for numerical columns (no need for categorical columns)\n",
        "num_pipe = make_pipeline(num_imputer, scaler)\n",
        "num_pipe"
      ],
      "metadata": {
        "colab": {
          "base_uri": "https://localhost:8080/",
          "height": 126
        },
        "id": "FOmIix2QD-D9",
        "outputId": "5cf2d05f-8fc1-4072-8223-583e325cb63e"
      },
      "execution_count": 16,
      "outputs": [
        {
          "output_type": "execute_result",
          "data": {
            "text/plain": [
              "Pipeline(steps=[('simpleimputer', SimpleImputer()),\n",
              "                ('standardscaler', StandardScaler())])"
            ],
            "text/html": [
              "<style>#sk-b5a62a71-98be-4a0e-8362-15e5a29d98e2 {color: black;background-color: white;}#sk-b5a62a71-98be-4a0e-8362-15e5a29d98e2 pre{padding: 0;}#sk-b5a62a71-98be-4a0e-8362-15e5a29d98e2 div.sk-toggleable {background-color: white;}#sk-b5a62a71-98be-4a0e-8362-15e5a29d98e2 label.sk-toggleable__label {cursor: pointer;display: block;width: 100%;margin-bottom: 0;padding: 0.3em;box-sizing: border-box;text-align: center;}#sk-b5a62a71-98be-4a0e-8362-15e5a29d98e2 label.sk-toggleable__label-arrow:before {content: \"▸\";float: left;margin-right: 0.25em;color: #696969;}#sk-b5a62a71-98be-4a0e-8362-15e5a29d98e2 label.sk-toggleable__label-arrow:hover:before {color: black;}#sk-b5a62a71-98be-4a0e-8362-15e5a29d98e2 div.sk-estimator:hover label.sk-toggleable__label-arrow:before {color: black;}#sk-b5a62a71-98be-4a0e-8362-15e5a29d98e2 div.sk-toggleable__content {max-height: 0;max-width: 0;overflow: hidden;text-align: left;background-color: #f0f8ff;}#sk-b5a62a71-98be-4a0e-8362-15e5a29d98e2 div.sk-toggleable__content pre {margin: 0.2em;color: black;border-radius: 0.25em;background-color: #f0f8ff;}#sk-b5a62a71-98be-4a0e-8362-15e5a29d98e2 input.sk-toggleable__control:checked~div.sk-toggleable__content {max-height: 200px;max-width: 100%;overflow: auto;}#sk-b5a62a71-98be-4a0e-8362-15e5a29d98e2 input.sk-toggleable__control:checked~label.sk-toggleable__label-arrow:before {content: \"▾\";}#sk-b5a62a71-98be-4a0e-8362-15e5a29d98e2 div.sk-estimator input.sk-toggleable__control:checked~label.sk-toggleable__label {background-color: #d4ebff;}#sk-b5a62a71-98be-4a0e-8362-15e5a29d98e2 div.sk-label input.sk-toggleable__control:checked~label.sk-toggleable__label {background-color: #d4ebff;}#sk-b5a62a71-98be-4a0e-8362-15e5a29d98e2 input.sk-hidden--visually {border: 0;clip: rect(1px 1px 1px 1px);clip: rect(1px, 1px, 1px, 1px);height: 1px;margin: -1px;overflow: hidden;padding: 0;position: absolute;width: 1px;}#sk-b5a62a71-98be-4a0e-8362-15e5a29d98e2 div.sk-estimator {font-family: monospace;background-color: #f0f8ff;border: 1px dotted black;border-radius: 0.25em;box-sizing: border-box;margin-bottom: 0.5em;}#sk-b5a62a71-98be-4a0e-8362-15e5a29d98e2 div.sk-estimator:hover {background-color: #d4ebff;}#sk-b5a62a71-98be-4a0e-8362-15e5a29d98e2 div.sk-parallel-item::after {content: \"\";width: 100%;border-bottom: 1px solid gray;flex-grow: 1;}#sk-b5a62a71-98be-4a0e-8362-15e5a29d98e2 div.sk-label:hover label.sk-toggleable__label {background-color: #d4ebff;}#sk-b5a62a71-98be-4a0e-8362-15e5a29d98e2 div.sk-serial::before {content: \"\";position: absolute;border-left: 1px solid gray;box-sizing: border-box;top: 2em;bottom: 0;left: 50%;}#sk-b5a62a71-98be-4a0e-8362-15e5a29d98e2 div.sk-serial {display: flex;flex-direction: column;align-items: center;background-color: white;padding-right: 0.2em;padding-left: 0.2em;}#sk-b5a62a71-98be-4a0e-8362-15e5a29d98e2 div.sk-item {z-index: 1;}#sk-b5a62a71-98be-4a0e-8362-15e5a29d98e2 div.sk-parallel {display: flex;align-items: stretch;justify-content: center;background-color: white;}#sk-b5a62a71-98be-4a0e-8362-15e5a29d98e2 div.sk-parallel::before {content: \"\";position: absolute;border-left: 1px solid gray;box-sizing: border-box;top: 2em;bottom: 0;left: 50%;}#sk-b5a62a71-98be-4a0e-8362-15e5a29d98e2 div.sk-parallel-item {display: flex;flex-direction: column;position: relative;background-color: white;}#sk-b5a62a71-98be-4a0e-8362-15e5a29d98e2 div.sk-parallel-item:first-child::after {align-self: flex-end;width: 50%;}#sk-b5a62a71-98be-4a0e-8362-15e5a29d98e2 div.sk-parallel-item:last-child::after {align-self: flex-start;width: 50%;}#sk-b5a62a71-98be-4a0e-8362-15e5a29d98e2 div.sk-parallel-item:only-child::after {width: 0;}#sk-b5a62a71-98be-4a0e-8362-15e5a29d98e2 div.sk-dashed-wrapped {border: 1px dashed gray;margin: 0 0.4em 0.5em 0.4em;box-sizing: border-box;padding-bottom: 0.4em;background-color: white;position: relative;}#sk-b5a62a71-98be-4a0e-8362-15e5a29d98e2 div.sk-label label {font-family: monospace;font-weight: bold;background-color: white;display: inline-block;line-height: 1.2em;}#sk-b5a62a71-98be-4a0e-8362-15e5a29d98e2 div.sk-label-container {position: relative;z-index: 2;text-align: center;}#sk-b5a62a71-98be-4a0e-8362-15e5a29d98e2 div.sk-container {/* jupyter's `normalize.less` sets `[hidden] { display: none; }` but bootstrap.min.css set `[hidden] { display: none !important; }` so we also need the `!important` here to be able to override the default hidden behavior on the sphinx rendered scikit-learn.org. See: https://github.com/scikit-learn/scikit-learn/issues/21755 */display: inline-block !important;position: relative;}#sk-b5a62a71-98be-4a0e-8362-15e5a29d98e2 div.sk-text-repr-fallback {display: none;}</style><div id=\"sk-b5a62a71-98be-4a0e-8362-15e5a29d98e2\" class=\"sk-top-container\"><div class=\"sk-text-repr-fallback\"><pre>Pipeline(steps=[(&#x27;simpleimputer&#x27;, SimpleImputer()),\n",
              "                (&#x27;standardscaler&#x27;, StandardScaler())])</pre><b>Please rerun this cell to show the HTML repr or trust the notebook.</b></div><div class=\"sk-container\" hidden><div class=\"sk-item sk-dashed-wrapped\"><div class=\"sk-label-container\"><div class=\"sk-label sk-toggleable\"><input class=\"sk-toggleable__control sk-hidden--visually\" id=\"8afbacb6-66b4-49a2-9506-2fb95659bd78\" type=\"checkbox\" ><label for=\"8afbacb6-66b4-49a2-9506-2fb95659bd78\" class=\"sk-toggleable__label sk-toggleable__label-arrow\">Pipeline</label><div class=\"sk-toggleable__content\"><pre>Pipeline(steps=[(&#x27;simpleimputer&#x27;, SimpleImputer()),\n",
              "                (&#x27;standardscaler&#x27;, StandardScaler())])</pre></div></div></div><div class=\"sk-serial\"><div class=\"sk-item\"><div class=\"sk-estimator sk-toggleable\"><input class=\"sk-toggleable__control sk-hidden--visually\" id=\"00aa5bca-27f9-4a6e-b380-adc954bcd179\" type=\"checkbox\" ><label for=\"00aa5bca-27f9-4a6e-b380-adc954bcd179\" class=\"sk-toggleable__label sk-toggleable__label-arrow\">SimpleImputer</label><div class=\"sk-toggleable__content\"><pre>SimpleImputer()</pre></div></div></div><div class=\"sk-item\"><div class=\"sk-estimator sk-toggleable\"><input class=\"sk-toggleable__control sk-hidden--visually\" id=\"ae37c330-22de-4765-9f4a-2202ae4665d7\" type=\"checkbox\" ><label for=\"ae37c330-22de-4765-9f4a-2202ae4665d7\" class=\"sk-toggleable__label sk-toggleable__label-arrow\">StandardScaler</label><div class=\"sk-toggleable__content\"><pre>StandardScaler()</pre></div></div></div></div></div></div></div>"
            ]
          },
          "metadata": {},
          "execution_count": 16
        }
      ]
    },
    {
      "cell_type": "code",
      "source": [
        "# Making tuples for categorical and numerical for a column transformer\n",
        "cat_tuple = (ohe, cat_selector)\n",
        "num_tuple = (num_pipe, num_selector)"
      ],
      "metadata": {
        "id": "B9BBpGsbETKw"
      },
      "execution_count": 17,
      "outputs": []
    },
    {
      "cell_type": "code",
      "source": [
        "# Instantiate column transformer, dropping unprocessed columns\n",
        "preprocessor = make_column_transformer(cat_tuple, num_tuple, remainder = 'drop')\n",
        "\n",
        "#Checking processor\n",
        "preprocessor"
      ],
      "metadata": {
        "colab": {
          "base_uri": "https://localhost:8080/",
          "height": 152
        },
        "id": "Zsro-fItEr2C",
        "outputId": "594689ba-79ba-4ca9-ca10-ddb579ab935d"
      },
      "execution_count": 18,
      "outputs": [
        {
          "output_type": "execute_result",
          "data": {
            "text/plain": [
              "ColumnTransformer(transformers=[('onehotencoder',\n",
              "                                 OneHotEncoder(handle_unknown='ignore',\n",
              "                                               sparse=False),\n",
              "                                 <sklearn.compose._column_transformer.make_column_selector object at 0x7f79ff0a1160>),\n",
              "                                ('pipeline',\n",
              "                                 Pipeline(steps=[('simpleimputer',\n",
              "                                                  SimpleImputer()),\n",
              "                                                 ('standardscaler',\n",
              "                                                  StandardScaler())]),\n",
              "                                 <sklearn.compose._column_transformer.make_column_selector object at 0x7f79ff0a1190>)])"
            ],
            "text/html": [
              "<style>#sk-84601e02-8ae2-404a-86ab-278d393ad81b {color: black;background-color: white;}#sk-84601e02-8ae2-404a-86ab-278d393ad81b pre{padding: 0;}#sk-84601e02-8ae2-404a-86ab-278d393ad81b div.sk-toggleable {background-color: white;}#sk-84601e02-8ae2-404a-86ab-278d393ad81b label.sk-toggleable__label {cursor: pointer;display: block;width: 100%;margin-bottom: 0;padding: 0.3em;box-sizing: border-box;text-align: center;}#sk-84601e02-8ae2-404a-86ab-278d393ad81b label.sk-toggleable__label-arrow:before {content: \"▸\";float: left;margin-right: 0.25em;color: #696969;}#sk-84601e02-8ae2-404a-86ab-278d393ad81b label.sk-toggleable__label-arrow:hover:before {color: black;}#sk-84601e02-8ae2-404a-86ab-278d393ad81b div.sk-estimator:hover label.sk-toggleable__label-arrow:before {color: black;}#sk-84601e02-8ae2-404a-86ab-278d393ad81b div.sk-toggleable__content {max-height: 0;max-width: 0;overflow: hidden;text-align: left;background-color: #f0f8ff;}#sk-84601e02-8ae2-404a-86ab-278d393ad81b div.sk-toggleable__content pre {margin: 0.2em;color: black;border-radius: 0.25em;background-color: #f0f8ff;}#sk-84601e02-8ae2-404a-86ab-278d393ad81b input.sk-toggleable__control:checked~div.sk-toggleable__content {max-height: 200px;max-width: 100%;overflow: auto;}#sk-84601e02-8ae2-404a-86ab-278d393ad81b input.sk-toggleable__control:checked~label.sk-toggleable__label-arrow:before {content: \"▾\";}#sk-84601e02-8ae2-404a-86ab-278d393ad81b div.sk-estimator input.sk-toggleable__control:checked~label.sk-toggleable__label {background-color: #d4ebff;}#sk-84601e02-8ae2-404a-86ab-278d393ad81b div.sk-label input.sk-toggleable__control:checked~label.sk-toggleable__label {background-color: #d4ebff;}#sk-84601e02-8ae2-404a-86ab-278d393ad81b input.sk-hidden--visually {border: 0;clip: rect(1px 1px 1px 1px);clip: rect(1px, 1px, 1px, 1px);height: 1px;margin: -1px;overflow: hidden;padding: 0;position: absolute;width: 1px;}#sk-84601e02-8ae2-404a-86ab-278d393ad81b div.sk-estimator {font-family: monospace;background-color: #f0f8ff;border: 1px dotted black;border-radius: 0.25em;box-sizing: border-box;margin-bottom: 0.5em;}#sk-84601e02-8ae2-404a-86ab-278d393ad81b div.sk-estimator:hover {background-color: #d4ebff;}#sk-84601e02-8ae2-404a-86ab-278d393ad81b div.sk-parallel-item::after {content: \"\";width: 100%;border-bottom: 1px solid gray;flex-grow: 1;}#sk-84601e02-8ae2-404a-86ab-278d393ad81b div.sk-label:hover label.sk-toggleable__label {background-color: #d4ebff;}#sk-84601e02-8ae2-404a-86ab-278d393ad81b div.sk-serial::before {content: \"\";position: absolute;border-left: 1px solid gray;box-sizing: border-box;top: 2em;bottom: 0;left: 50%;}#sk-84601e02-8ae2-404a-86ab-278d393ad81b div.sk-serial {display: flex;flex-direction: column;align-items: center;background-color: white;padding-right: 0.2em;padding-left: 0.2em;}#sk-84601e02-8ae2-404a-86ab-278d393ad81b div.sk-item {z-index: 1;}#sk-84601e02-8ae2-404a-86ab-278d393ad81b div.sk-parallel {display: flex;align-items: stretch;justify-content: center;background-color: white;}#sk-84601e02-8ae2-404a-86ab-278d393ad81b div.sk-parallel::before {content: \"\";position: absolute;border-left: 1px solid gray;box-sizing: border-box;top: 2em;bottom: 0;left: 50%;}#sk-84601e02-8ae2-404a-86ab-278d393ad81b div.sk-parallel-item {display: flex;flex-direction: column;position: relative;background-color: white;}#sk-84601e02-8ae2-404a-86ab-278d393ad81b div.sk-parallel-item:first-child::after {align-self: flex-end;width: 50%;}#sk-84601e02-8ae2-404a-86ab-278d393ad81b div.sk-parallel-item:last-child::after {align-self: flex-start;width: 50%;}#sk-84601e02-8ae2-404a-86ab-278d393ad81b div.sk-parallel-item:only-child::after {width: 0;}#sk-84601e02-8ae2-404a-86ab-278d393ad81b div.sk-dashed-wrapped {border: 1px dashed gray;margin: 0 0.4em 0.5em 0.4em;box-sizing: border-box;padding-bottom: 0.4em;background-color: white;position: relative;}#sk-84601e02-8ae2-404a-86ab-278d393ad81b div.sk-label label {font-family: monospace;font-weight: bold;background-color: white;display: inline-block;line-height: 1.2em;}#sk-84601e02-8ae2-404a-86ab-278d393ad81b div.sk-label-container {position: relative;z-index: 2;text-align: center;}#sk-84601e02-8ae2-404a-86ab-278d393ad81b div.sk-container {/* jupyter's `normalize.less` sets `[hidden] { display: none; }` but bootstrap.min.css set `[hidden] { display: none !important; }` so we also need the `!important` here to be able to override the default hidden behavior on the sphinx rendered scikit-learn.org. See: https://github.com/scikit-learn/scikit-learn/issues/21755 */display: inline-block !important;position: relative;}#sk-84601e02-8ae2-404a-86ab-278d393ad81b div.sk-text-repr-fallback {display: none;}</style><div id=\"sk-84601e02-8ae2-404a-86ab-278d393ad81b\" class=\"sk-top-container\"><div class=\"sk-text-repr-fallback\"><pre>ColumnTransformer(transformers=[(&#x27;onehotencoder&#x27;,\n",
              "                                 OneHotEncoder(handle_unknown=&#x27;ignore&#x27;,\n",
              "                                               sparse=False),\n",
              "                                 &lt;sklearn.compose._column_transformer.make_column_selector object at 0x7f79ff0a1160&gt;),\n",
              "                                (&#x27;pipeline&#x27;,\n",
              "                                 Pipeline(steps=[(&#x27;simpleimputer&#x27;,\n",
              "                                                  SimpleImputer()),\n",
              "                                                 (&#x27;standardscaler&#x27;,\n",
              "                                                  StandardScaler())]),\n",
              "                                 &lt;sklearn.compose._column_transformer.make_column_selector object at 0x7f79ff0a1190&gt;)])</pre><b>Please rerun this cell to show the HTML repr or trust the notebook.</b></div><div class=\"sk-container\" hidden><div class=\"sk-item sk-dashed-wrapped\"><div class=\"sk-label-container\"><div class=\"sk-label sk-toggleable\"><input class=\"sk-toggleable__control sk-hidden--visually\" id=\"32fe58b1-57fc-4417-ad9f-364917f109c0\" type=\"checkbox\" ><label for=\"32fe58b1-57fc-4417-ad9f-364917f109c0\" class=\"sk-toggleable__label sk-toggleable__label-arrow\">ColumnTransformer</label><div class=\"sk-toggleable__content\"><pre>ColumnTransformer(transformers=[(&#x27;onehotencoder&#x27;,\n",
              "                                 OneHotEncoder(handle_unknown=&#x27;ignore&#x27;,\n",
              "                                               sparse=False),\n",
              "                                 &lt;sklearn.compose._column_transformer.make_column_selector object at 0x7f79ff0a1160&gt;),\n",
              "                                (&#x27;pipeline&#x27;,\n",
              "                                 Pipeline(steps=[(&#x27;simpleimputer&#x27;,\n",
              "                                                  SimpleImputer()),\n",
              "                                                 (&#x27;standardscaler&#x27;,\n",
              "                                                  StandardScaler())]),\n",
              "                                 &lt;sklearn.compose._column_transformer.make_column_selector object at 0x7f79ff0a1190&gt;)])</pre></div></div></div><div class=\"sk-parallel\"><div class=\"sk-parallel-item\"><div class=\"sk-item\"><div class=\"sk-label-container\"><div class=\"sk-label sk-toggleable\"><input class=\"sk-toggleable__control sk-hidden--visually\" id=\"474c0825-c240-494c-bcb6-d094dd557818\" type=\"checkbox\" ><label for=\"474c0825-c240-494c-bcb6-d094dd557818\" class=\"sk-toggleable__label sk-toggleable__label-arrow\">onehotencoder</label><div class=\"sk-toggleable__content\"><pre>&lt;sklearn.compose._column_transformer.make_column_selector object at 0x7f79ff0a1160&gt;</pre></div></div></div><div class=\"sk-serial\"><div class=\"sk-item\"><div class=\"sk-estimator sk-toggleable\"><input class=\"sk-toggleable__control sk-hidden--visually\" id=\"f9b14f27-00b7-48bc-ba07-ac7ca7824800\" type=\"checkbox\" ><label for=\"f9b14f27-00b7-48bc-ba07-ac7ca7824800\" class=\"sk-toggleable__label sk-toggleable__label-arrow\">OneHotEncoder</label><div class=\"sk-toggleable__content\"><pre>OneHotEncoder(handle_unknown=&#x27;ignore&#x27;, sparse=False)</pre></div></div></div></div></div></div><div class=\"sk-parallel-item\"><div class=\"sk-item\"><div class=\"sk-label-container\"><div class=\"sk-label sk-toggleable\"><input class=\"sk-toggleable__control sk-hidden--visually\" id=\"e3950bfa-b628-4e58-b0e4-47dcc6e6ea2f\" type=\"checkbox\" ><label for=\"e3950bfa-b628-4e58-b0e4-47dcc6e6ea2f\" class=\"sk-toggleable__label sk-toggleable__label-arrow\">pipeline</label><div class=\"sk-toggleable__content\"><pre>&lt;sklearn.compose._column_transformer.make_column_selector object at 0x7f79ff0a1190&gt;</pre></div></div></div><div class=\"sk-serial\"><div class=\"sk-item\"><div class=\"sk-serial\"><div class=\"sk-item\"><div class=\"sk-estimator sk-toggleable\"><input class=\"sk-toggleable__control sk-hidden--visually\" id=\"3467f997-ef32-45ba-ac64-97487e4b623e\" type=\"checkbox\" ><label for=\"3467f997-ef32-45ba-ac64-97487e4b623e\" class=\"sk-toggleable__label sk-toggleable__label-arrow\">SimpleImputer</label><div class=\"sk-toggleable__content\"><pre>SimpleImputer()</pre></div></div></div><div class=\"sk-item\"><div class=\"sk-estimator sk-toggleable\"><input class=\"sk-toggleable__control sk-hidden--visually\" id=\"cf93f4e7-9317-4b24-8503-c83d589236a1\" type=\"checkbox\" ><label for=\"cf93f4e7-9317-4b24-8503-c83d589236a1\" class=\"sk-toggleable__label sk-toggleable__label-arrow\">StandardScaler</label><div class=\"sk-toggleable__content\"><pre>StandardScaler()</pre></div></div></div></div></div></div></div></div></div></div></div></div>"
            ]
          },
          "metadata": {},
          "execution_count": 18
        }
      ]
    },
    {
      "cell_type": "code",
      "source": [
        "# Fitting to the train data\n",
        "preprocessor.fit(X_train)\n",
        "\n",
        "#Transforming train and test data\n",
        "X_train_processed = preprocessor.transform(X_train)\n",
        "X_test_processed = preprocessor.transform(X_test)"
      ],
      "metadata": {
        "id": "vUog2m8RFfoT"
      },
      "execution_count": 19,
      "outputs": []
    },
    {
      "cell_type": "code",
      "source": [
        "# Checking data\n",
        "print(np.isnan(X_train_processed).sum())\n",
        "print(X_train_processed.shape)"
      ],
      "metadata": {
        "colab": {
          "base_uri": "https://localhost:8080/"
        },
        "id": "wZocDBsgFqiE",
        "outputId": "a458df00-1e8e-4687-d383-c3da542db2ae"
      },
      "execution_count": 20,
      "outputs": [
        {
          "output_type": "stream",
          "name": "stdout",
          "text": [
            "0\n",
            "(6392, 40)\n"
          ]
        }
      ]
    },
    {
      "cell_type": "markdown",
      "source": [
        "No missing values!\n",
        "\n",
        "40 columns > 10, good indication that OneHotEncoder worked as intended. "
      ],
      "metadata": {
        "id": "nVGlcOnmFwrm"
      }
    },
    {
      "cell_type": "markdown",
      "source": [
        "## Linear Regression Model"
      ],
      "metadata": {
        "id": "JJftILc_njce"
      }
    },
    {
      "cell_type": "code",
      "source": [
        "# import libraries\n",
        "from sklearn.linear_model import LinearRegression"
      ],
      "metadata": {
        "id": "0cJC-CHJpAtu"
      },
      "execution_count": 21,
      "outputs": []
    },
    {
      "cell_type": "code",
      "source": [
        "# Instantiate linear regression\n",
        "lin_reg = LinearRegression()\n",
        "\n",
        "# Make Model pipeline\n",
        "lin_pipe = make_pipeline(preprocessor, lin_reg)"
      ],
      "metadata": {
        "id": "3zCNqgwlNxjt"
      },
      "execution_count": 22,
      "outputs": []
    },
    {
      "cell_type": "code",
      "source": [
        "# Fit the model pipeline to the train set\n",
        "lin_pipe.fit(X_train, y_train)"
      ],
      "metadata": {
        "colab": {
          "base_uri": "https://localhost:8080/",
          "height": 227
        },
        "id": "nuR2sFHaOevy",
        "outputId": "d29147dd-997d-49f5-ca16-098ac60b4fa1"
      },
      "execution_count": 23,
      "outputs": [
        {
          "output_type": "execute_result",
          "data": {
            "text/plain": [
              "Pipeline(steps=[('columntransformer',\n",
              "                 ColumnTransformer(transformers=[('onehotencoder',\n",
              "                                                  OneHotEncoder(handle_unknown='ignore',\n",
              "                                                                sparse=False),\n",
              "                                                  <sklearn.compose._column_transformer.make_column_selector object at 0x7f79ff0a1160>),\n",
              "                                                 ('pipeline',\n",
              "                                                  Pipeline(steps=[('simpleimputer',\n",
              "                                                                   SimpleImputer()),\n",
              "                                                                  ('standardscaler',\n",
              "                                                                   StandardScaler())]),\n",
              "                                                  <sklearn.compose._column_transformer.make_column_selector object at 0x7f79ff0a1190>)])),\n",
              "                ('linearregression', LinearRegression())])"
            ],
            "text/html": [
              "<style>#sk-f5a5c4e5-02d9-482c-85bb-18b8f0265bf7 {color: black;background-color: white;}#sk-f5a5c4e5-02d9-482c-85bb-18b8f0265bf7 pre{padding: 0;}#sk-f5a5c4e5-02d9-482c-85bb-18b8f0265bf7 div.sk-toggleable {background-color: white;}#sk-f5a5c4e5-02d9-482c-85bb-18b8f0265bf7 label.sk-toggleable__label {cursor: pointer;display: block;width: 100%;margin-bottom: 0;padding: 0.3em;box-sizing: border-box;text-align: center;}#sk-f5a5c4e5-02d9-482c-85bb-18b8f0265bf7 label.sk-toggleable__label-arrow:before {content: \"▸\";float: left;margin-right: 0.25em;color: #696969;}#sk-f5a5c4e5-02d9-482c-85bb-18b8f0265bf7 label.sk-toggleable__label-arrow:hover:before {color: black;}#sk-f5a5c4e5-02d9-482c-85bb-18b8f0265bf7 div.sk-estimator:hover label.sk-toggleable__label-arrow:before {color: black;}#sk-f5a5c4e5-02d9-482c-85bb-18b8f0265bf7 div.sk-toggleable__content {max-height: 0;max-width: 0;overflow: hidden;text-align: left;background-color: #f0f8ff;}#sk-f5a5c4e5-02d9-482c-85bb-18b8f0265bf7 div.sk-toggleable__content pre {margin: 0.2em;color: black;border-radius: 0.25em;background-color: #f0f8ff;}#sk-f5a5c4e5-02d9-482c-85bb-18b8f0265bf7 input.sk-toggleable__control:checked~div.sk-toggleable__content {max-height: 200px;max-width: 100%;overflow: auto;}#sk-f5a5c4e5-02d9-482c-85bb-18b8f0265bf7 input.sk-toggleable__control:checked~label.sk-toggleable__label-arrow:before {content: \"▾\";}#sk-f5a5c4e5-02d9-482c-85bb-18b8f0265bf7 div.sk-estimator input.sk-toggleable__control:checked~label.sk-toggleable__label {background-color: #d4ebff;}#sk-f5a5c4e5-02d9-482c-85bb-18b8f0265bf7 div.sk-label input.sk-toggleable__control:checked~label.sk-toggleable__label {background-color: #d4ebff;}#sk-f5a5c4e5-02d9-482c-85bb-18b8f0265bf7 input.sk-hidden--visually {border: 0;clip: rect(1px 1px 1px 1px);clip: rect(1px, 1px, 1px, 1px);height: 1px;margin: -1px;overflow: hidden;padding: 0;position: absolute;width: 1px;}#sk-f5a5c4e5-02d9-482c-85bb-18b8f0265bf7 div.sk-estimator {font-family: monospace;background-color: #f0f8ff;border: 1px dotted black;border-radius: 0.25em;box-sizing: border-box;margin-bottom: 0.5em;}#sk-f5a5c4e5-02d9-482c-85bb-18b8f0265bf7 div.sk-estimator:hover {background-color: #d4ebff;}#sk-f5a5c4e5-02d9-482c-85bb-18b8f0265bf7 div.sk-parallel-item::after {content: \"\";width: 100%;border-bottom: 1px solid gray;flex-grow: 1;}#sk-f5a5c4e5-02d9-482c-85bb-18b8f0265bf7 div.sk-label:hover label.sk-toggleable__label {background-color: #d4ebff;}#sk-f5a5c4e5-02d9-482c-85bb-18b8f0265bf7 div.sk-serial::before {content: \"\";position: absolute;border-left: 1px solid gray;box-sizing: border-box;top: 2em;bottom: 0;left: 50%;}#sk-f5a5c4e5-02d9-482c-85bb-18b8f0265bf7 div.sk-serial {display: flex;flex-direction: column;align-items: center;background-color: white;padding-right: 0.2em;padding-left: 0.2em;}#sk-f5a5c4e5-02d9-482c-85bb-18b8f0265bf7 div.sk-item {z-index: 1;}#sk-f5a5c4e5-02d9-482c-85bb-18b8f0265bf7 div.sk-parallel {display: flex;align-items: stretch;justify-content: center;background-color: white;}#sk-f5a5c4e5-02d9-482c-85bb-18b8f0265bf7 div.sk-parallel::before {content: \"\";position: absolute;border-left: 1px solid gray;box-sizing: border-box;top: 2em;bottom: 0;left: 50%;}#sk-f5a5c4e5-02d9-482c-85bb-18b8f0265bf7 div.sk-parallel-item {display: flex;flex-direction: column;position: relative;background-color: white;}#sk-f5a5c4e5-02d9-482c-85bb-18b8f0265bf7 div.sk-parallel-item:first-child::after {align-self: flex-end;width: 50%;}#sk-f5a5c4e5-02d9-482c-85bb-18b8f0265bf7 div.sk-parallel-item:last-child::after {align-self: flex-start;width: 50%;}#sk-f5a5c4e5-02d9-482c-85bb-18b8f0265bf7 div.sk-parallel-item:only-child::after {width: 0;}#sk-f5a5c4e5-02d9-482c-85bb-18b8f0265bf7 div.sk-dashed-wrapped {border: 1px dashed gray;margin: 0 0.4em 0.5em 0.4em;box-sizing: border-box;padding-bottom: 0.4em;background-color: white;position: relative;}#sk-f5a5c4e5-02d9-482c-85bb-18b8f0265bf7 div.sk-label label {font-family: monospace;font-weight: bold;background-color: white;display: inline-block;line-height: 1.2em;}#sk-f5a5c4e5-02d9-482c-85bb-18b8f0265bf7 div.sk-label-container {position: relative;z-index: 2;text-align: center;}#sk-f5a5c4e5-02d9-482c-85bb-18b8f0265bf7 div.sk-container {/* jupyter's `normalize.less` sets `[hidden] { display: none; }` but bootstrap.min.css set `[hidden] { display: none !important; }` so we also need the `!important` here to be able to override the default hidden behavior on the sphinx rendered scikit-learn.org. See: https://github.com/scikit-learn/scikit-learn/issues/21755 */display: inline-block !important;position: relative;}#sk-f5a5c4e5-02d9-482c-85bb-18b8f0265bf7 div.sk-text-repr-fallback {display: none;}</style><div id=\"sk-f5a5c4e5-02d9-482c-85bb-18b8f0265bf7\" class=\"sk-top-container\"><div class=\"sk-text-repr-fallback\"><pre>Pipeline(steps=[(&#x27;columntransformer&#x27;,\n",
              "                 ColumnTransformer(transformers=[(&#x27;onehotencoder&#x27;,\n",
              "                                                  OneHotEncoder(handle_unknown=&#x27;ignore&#x27;,\n",
              "                                                                sparse=False),\n",
              "                                                  &lt;sklearn.compose._column_transformer.make_column_selector object at 0x7f79ff0a1160&gt;),\n",
              "                                                 (&#x27;pipeline&#x27;,\n",
              "                                                  Pipeline(steps=[(&#x27;simpleimputer&#x27;,\n",
              "                                                                   SimpleImputer()),\n",
              "                                                                  (&#x27;standardscaler&#x27;,\n",
              "                                                                   StandardScaler())]),\n",
              "                                                  &lt;sklearn.compose._column_transformer.make_column_selector object at 0x7f79ff0a1190&gt;)])),\n",
              "                (&#x27;linearregression&#x27;, LinearRegression())])</pre><b>Please rerun this cell to show the HTML repr or trust the notebook.</b></div><div class=\"sk-container\" hidden><div class=\"sk-item sk-dashed-wrapped\"><div class=\"sk-label-container\"><div class=\"sk-label sk-toggleable\"><input class=\"sk-toggleable__control sk-hidden--visually\" id=\"8d5d76e9-d81c-40c8-9e4b-79dabd075e1c\" type=\"checkbox\" ><label for=\"8d5d76e9-d81c-40c8-9e4b-79dabd075e1c\" class=\"sk-toggleable__label sk-toggleable__label-arrow\">Pipeline</label><div class=\"sk-toggleable__content\"><pre>Pipeline(steps=[(&#x27;columntransformer&#x27;,\n",
              "                 ColumnTransformer(transformers=[(&#x27;onehotencoder&#x27;,\n",
              "                                                  OneHotEncoder(handle_unknown=&#x27;ignore&#x27;,\n",
              "                                                                sparse=False),\n",
              "                                                  &lt;sklearn.compose._column_transformer.make_column_selector object at 0x7f79ff0a1160&gt;),\n",
              "                                                 (&#x27;pipeline&#x27;,\n",
              "                                                  Pipeline(steps=[(&#x27;simpleimputer&#x27;,\n",
              "                                                                   SimpleImputer()),\n",
              "                                                                  (&#x27;standardscaler&#x27;,\n",
              "                                                                   StandardScaler())]),\n",
              "                                                  &lt;sklearn.compose._column_transformer.make_column_selector object at 0x7f79ff0a1190&gt;)])),\n",
              "                (&#x27;linearregression&#x27;, LinearRegression())])</pre></div></div></div><div class=\"sk-serial\"><div class=\"sk-item sk-dashed-wrapped\"><div class=\"sk-label-container\"><div class=\"sk-label sk-toggleable\"><input class=\"sk-toggleable__control sk-hidden--visually\" id=\"234d146a-98de-4d58-983a-f7dc9eb4be57\" type=\"checkbox\" ><label for=\"234d146a-98de-4d58-983a-f7dc9eb4be57\" class=\"sk-toggleable__label sk-toggleable__label-arrow\">columntransformer: ColumnTransformer</label><div class=\"sk-toggleable__content\"><pre>ColumnTransformer(transformers=[(&#x27;onehotencoder&#x27;,\n",
              "                                 OneHotEncoder(handle_unknown=&#x27;ignore&#x27;,\n",
              "                                               sparse=False),\n",
              "                                 &lt;sklearn.compose._column_transformer.make_column_selector object at 0x7f79ff0a1160&gt;),\n",
              "                                (&#x27;pipeline&#x27;,\n",
              "                                 Pipeline(steps=[(&#x27;simpleimputer&#x27;,\n",
              "                                                  SimpleImputer()),\n",
              "                                                 (&#x27;standardscaler&#x27;,\n",
              "                                                  StandardScaler())]),\n",
              "                                 &lt;sklearn.compose._column_transformer.make_column_selector object at 0x7f79ff0a1190&gt;)])</pre></div></div></div><div class=\"sk-parallel\"><div class=\"sk-parallel-item\"><div class=\"sk-item\"><div class=\"sk-label-container\"><div class=\"sk-label sk-toggleable\"><input class=\"sk-toggleable__control sk-hidden--visually\" id=\"0c25dfcc-5a50-4d85-81f1-6c2d3aa36796\" type=\"checkbox\" ><label for=\"0c25dfcc-5a50-4d85-81f1-6c2d3aa36796\" class=\"sk-toggleable__label sk-toggleable__label-arrow\">onehotencoder</label><div class=\"sk-toggleable__content\"><pre>&lt;sklearn.compose._column_transformer.make_column_selector object at 0x7f79ff0a1160&gt;</pre></div></div></div><div class=\"sk-serial\"><div class=\"sk-item\"><div class=\"sk-estimator sk-toggleable\"><input class=\"sk-toggleable__control sk-hidden--visually\" id=\"d810ac19-4a96-45c1-8a51-fb5688021888\" type=\"checkbox\" ><label for=\"d810ac19-4a96-45c1-8a51-fb5688021888\" class=\"sk-toggleable__label sk-toggleable__label-arrow\">OneHotEncoder</label><div class=\"sk-toggleable__content\"><pre>OneHotEncoder(handle_unknown=&#x27;ignore&#x27;, sparse=False)</pre></div></div></div></div></div></div><div class=\"sk-parallel-item\"><div class=\"sk-item\"><div class=\"sk-label-container\"><div class=\"sk-label sk-toggleable\"><input class=\"sk-toggleable__control sk-hidden--visually\" id=\"e58db7d6-156b-434a-878d-8f88a06e3cd2\" type=\"checkbox\" ><label for=\"e58db7d6-156b-434a-878d-8f88a06e3cd2\" class=\"sk-toggleable__label sk-toggleable__label-arrow\">pipeline</label><div class=\"sk-toggleable__content\"><pre>&lt;sklearn.compose._column_transformer.make_column_selector object at 0x7f79ff0a1190&gt;</pre></div></div></div><div class=\"sk-serial\"><div class=\"sk-item\"><div class=\"sk-serial\"><div class=\"sk-item\"><div class=\"sk-estimator sk-toggleable\"><input class=\"sk-toggleable__control sk-hidden--visually\" id=\"33bee30d-7b69-4544-a3c7-46a0bb90a74c\" type=\"checkbox\" ><label for=\"33bee30d-7b69-4544-a3c7-46a0bb90a74c\" class=\"sk-toggleable__label sk-toggleable__label-arrow\">SimpleImputer</label><div class=\"sk-toggleable__content\"><pre>SimpleImputer()</pre></div></div></div><div class=\"sk-item\"><div class=\"sk-estimator sk-toggleable\"><input class=\"sk-toggleable__control sk-hidden--visually\" id=\"61d2fa6c-7162-46d7-bd79-166cea3c94f5\" type=\"checkbox\" ><label for=\"61d2fa6c-7162-46d7-bd79-166cea3c94f5\" class=\"sk-toggleable__label sk-toggleable__label-arrow\">StandardScaler</label><div class=\"sk-toggleable__content\"><pre>StandardScaler()</pre></div></div></div></div></div></div></div></div></div></div><div class=\"sk-item\"><div class=\"sk-estimator sk-toggleable\"><input class=\"sk-toggleable__control sk-hidden--visually\" id=\"40d32532-5029-49e6-9e21-f0b11149e558\" type=\"checkbox\" ><label for=\"40d32532-5029-49e6-9e21-f0b11149e558\" class=\"sk-toggleable__label sk-toggleable__label-arrow\">LinearRegression</label><div class=\"sk-toggleable__content\"><pre>LinearRegression()</pre></div></div></div></div></div></div></div>"
            ]
          },
          "metadata": {},
          "execution_count": 23
        }
      ]
    },
    {
      "cell_type": "code",
      "source": [
        "# Predict using the liner regression pipeline\n",
        "train_pred = lin_pipe.predict(X_train)\n",
        "test_pred = lin_pipe.predict(X_test)"
      ],
      "metadata": {
        "id": "MrHhfQcCOpdm"
      },
      "execution_count": 24,
      "outputs": []
    },
    {
      "cell_type": "code",
      "source": [
        "# Import contents to evaluate model performance \n",
        "from sklearn.metrics import mean_absolute_error, mean_squared_error, r2_score "
      ],
      "metadata": {
        "id": "J4NfjC00PqqI"
      },
      "execution_count": 25,
      "outputs": []
    },
    {
      "cell_type": "code",
      "source": [
        "# Evaluate model performance\n",
        "# R-squared\n",
        "train_R2 = r2_score(y_train, train_pred)\n",
        "test_R2 = r2_score(y_test, test_pred)\n",
        "\n",
        "# Root mean squared error\n",
        "train_RMSE = np.sqrt(mean_squared_error(y_train, train_pred))\n",
        "test_RMSE= np.sqrt(mean_squared_error(y_test, test_pred))\n",
        "\n",
        "print(f'The R-squared value for the train and test sets are {round(train_R2, 4)} and {round(test_R2, 4)}, respectively')\n",
        "print(f'The root mean squared error value for the train sets and test are {round(train_RMSE, 2)} and {round(test_RMSE, 2)}, respectively')"
      ],
      "metadata": {
        "colab": {
          "base_uri": "https://localhost:8080/"
        },
        "id": "yLDRJQqSQRvm",
        "outputId": "939516a5-cf4a-4abd-9733-cb8af7a5a8ca"
      },
      "execution_count": 26,
      "outputs": [
        {
          "output_type": "stream",
          "name": "stdout",
          "text": [
            "The R-squared value for the train and test sets are 0.5601 and 0.5685, respectively\n",
            "The root mean squared error value for the train sets and test are 1141.03 and 1091.05, respectively\n"
          ]
        }
      ]
    },
    {
      "cell_type": "code",
      "source": [
        "# Retrieving context for RMSE\n",
        "df.describe()"
      ],
      "metadata": {
        "colab": {
          "base_uri": "https://localhost:8080/",
          "height": 300
        },
        "id": "CAFA2ovfSGOJ",
        "outputId": "2327bb73-b795-4975-9b9d-0df3294262fa"
      },
      "execution_count": 27,
      "outputs": [
        {
          "output_type": "execute_result",
          "data": {
            "text/plain": [
              "       Item_Weight  Item_Visibility     Item_MRP  Outlet_Establishment_Year  \\\n",
              "count  7060.000000      8523.000000  8523.000000                8523.000000   \n",
              "mean     12.857645         0.066132   140.992782                1997.831867   \n",
              "std       4.643456         0.051598    62.275067                   8.371760   \n",
              "min       4.555000         0.000000    31.290000                1985.000000   \n",
              "25%       8.773750         0.026989    93.826500                1987.000000   \n",
              "50%      12.600000         0.053931   143.012800                1999.000000   \n",
              "75%      16.850000         0.094585   185.643700                2004.000000   \n",
              "max      21.350000         0.328391   266.888400                2009.000000   \n",
              "\n",
              "       Item_Outlet_Sales  \n",
              "count        8523.000000  \n",
              "mean         2181.288914  \n",
              "std          1706.499616  \n",
              "min            33.290000  \n",
              "25%           834.247400  \n",
              "50%          1794.331000  \n",
              "75%          3101.296400  \n",
              "max         13086.964800  "
            ],
            "text/html": [
              "\n",
              "  <div id=\"df-ea8c0e84-91cd-4858-b041-46f3a30c1350\">\n",
              "    <div class=\"colab-df-container\">\n",
              "      <div>\n",
              "<style scoped>\n",
              "    .dataframe tbody tr th:only-of-type {\n",
              "        vertical-align: middle;\n",
              "    }\n",
              "\n",
              "    .dataframe tbody tr th {\n",
              "        vertical-align: top;\n",
              "    }\n",
              "\n",
              "    .dataframe thead th {\n",
              "        text-align: right;\n",
              "    }\n",
              "</style>\n",
              "<table border=\"1\" class=\"dataframe\">\n",
              "  <thead>\n",
              "    <tr style=\"text-align: right;\">\n",
              "      <th></th>\n",
              "      <th>Item_Weight</th>\n",
              "      <th>Item_Visibility</th>\n",
              "      <th>Item_MRP</th>\n",
              "      <th>Outlet_Establishment_Year</th>\n",
              "      <th>Item_Outlet_Sales</th>\n",
              "    </tr>\n",
              "  </thead>\n",
              "  <tbody>\n",
              "    <tr>\n",
              "      <th>count</th>\n",
              "      <td>7060.000000</td>\n",
              "      <td>8523.000000</td>\n",
              "      <td>8523.000000</td>\n",
              "      <td>8523.000000</td>\n",
              "      <td>8523.000000</td>\n",
              "    </tr>\n",
              "    <tr>\n",
              "      <th>mean</th>\n",
              "      <td>12.857645</td>\n",
              "      <td>0.066132</td>\n",
              "      <td>140.992782</td>\n",
              "      <td>1997.831867</td>\n",
              "      <td>2181.288914</td>\n",
              "    </tr>\n",
              "    <tr>\n",
              "      <th>std</th>\n",
              "      <td>4.643456</td>\n",
              "      <td>0.051598</td>\n",
              "      <td>62.275067</td>\n",
              "      <td>8.371760</td>\n",
              "      <td>1706.499616</td>\n",
              "    </tr>\n",
              "    <tr>\n",
              "      <th>min</th>\n",
              "      <td>4.555000</td>\n",
              "      <td>0.000000</td>\n",
              "      <td>31.290000</td>\n",
              "      <td>1985.000000</td>\n",
              "      <td>33.290000</td>\n",
              "    </tr>\n",
              "    <tr>\n",
              "      <th>25%</th>\n",
              "      <td>8.773750</td>\n",
              "      <td>0.026989</td>\n",
              "      <td>93.826500</td>\n",
              "      <td>1987.000000</td>\n",
              "      <td>834.247400</td>\n",
              "    </tr>\n",
              "    <tr>\n",
              "      <th>50%</th>\n",
              "      <td>12.600000</td>\n",
              "      <td>0.053931</td>\n",
              "      <td>143.012800</td>\n",
              "      <td>1999.000000</td>\n",
              "      <td>1794.331000</td>\n",
              "    </tr>\n",
              "    <tr>\n",
              "      <th>75%</th>\n",
              "      <td>16.850000</td>\n",
              "      <td>0.094585</td>\n",
              "      <td>185.643700</td>\n",
              "      <td>2004.000000</td>\n",
              "      <td>3101.296400</td>\n",
              "    </tr>\n",
              "    <tr>\n",
              "      <th>max</th>\n",
              "      <td>21.350000</td>\n",
              "      <td>0.328391</td>\n",
              "      <td>266.888400</td>\n",
              "      <td>2009.000000</td>\n",
              "      <td>13086.964800</td>\n",
              "    </tr>\n",
              "  </tbody>\n",
              "</table>\n",
              "</div>\n",
              "      <button class=\"colab-df-convert\" onclick=\"convertToInteractive('df-ea8c0e84-91cd-4858-b041-46f3a30c1350')\"\n",
              "              title=\"Convert this dataframe to an interactive table.\"\n",
              "              style=\"display:none;\">\n",
              "        \n",
              "  <svg xmlns=\"http://www.w3.org/2000/svg\" height=\"24px\"viewBox=\"0 0 24 24\"\n",
              "       width=\"24px\">\n",
              "    <path d=\"M0 0h24v24H0V0z\" fill=\"none\"/>\n",
              "    <path d=\"M18.56 5.44l.94 2.06.94-2.06 2.06-.94-2.06-.94-.94-2.06-.94 2.06-2.06.94zm-11 1L8.5 8.5l.94-2.06 2.06-.94-2.06-.94L8.5 2.5l-.94 2.06-2.06.94zm10 10l.94 2.06.94-2.06 2.06-.94-2.06-.94-.94-2.06-.94 2.06-2.06.94z\"/><path d=\"M17.41 7.96l-1.37-1.37c-.4-.4-.92-.59-1.43-.59-.52 0-1.04.2-1.43.59L10.3 9.45l-7.72 7.72c-.78.78-.78 2.05 0 2.83L4 21.41c.39.39.9.59 1.41.59.51 0 1.02-.2 1.41-.59l7.78-7.78 2.81-2.81c.8-.78.8-2.07 0-2.86zM5.41 20L4 18.59l7.72-7.72 1.47 1.35L5.41 20z\"/>\n",
              "  </svg>\n",
              "      </button>\n",
              "      \n",
              "  <style>\n",
              "    .colab-df-container {\n",
              "      display:flex;\n",
              "      flex-wrap:wrap;\n",
              "      gap: 12px;\n",
              "    }\n",
              "\n",
              "    .colab-df-convert {\n",
              "      background-color: #E8F0FE;\n",
              "      border: none;\n",
              "      border-radius: 50%;\n",
              "      cursor: pointer;\n",
              "      display: none;\n",
              "      fill: #1967D2;\n",
              "      height: 32px;\n",
              "      padding: 0 0 0 0;\n",
              "      width: 32px;\n",
              "    }\n",
              "\n",
              "    .colab-df-convert:hover {\n",
              "      background-color: #E2EBFA;\n",
              "      box-shadow: 0px 1px 2px rgba(60, 64, 67, 0.3), 0px 1px 3px 1px rgba(60, 64, 67, 0.15);\n",
              "      fill: #174EA6;\n",
              "    }\n",
              "\n",
              "    [theme=dark] .colab-df-convert {\n",
              "      background-color: #3B4455;\n",
              "      fill: #D2E3FC;\n",
              "    }\n",
              "\n",
              "    [theme=dark] .colab-df-convert:hover {\n",
              "      background-color: #434B5C;\n",
              "      box-shadow: 0px 1px 3px 1px rgba(0, 0, 0, 0.15);\n",
              "      filter: drop-shadow(0px 1px 2px rgba(0, 0, 0, 0.3));\n",
              "      fill: #FFFFFF;\n",
              "    }\n",
              "  </style>\n",
              "\n",
              "      <script>\n",
              "        const buttonEl =\n",
              "          document.querySelector('#df-ea8c0e84-91cd-4858-b041-46f3a30c1350 button.colab-df-convert');\n",
              "        buttonEl.style.display =\n",
              "          google.colab.kernel.accessAllowed ? 'block' : 'none';\n",
              "\n",
              "        async function convertToInteractive(key) {\n",
              "          const element = document.querySelector('#df-ea8c0e84-91cd-4858-b041-46f3a30c1350');\n",
              "          const dataTable =\n",
              "            await google.colab.kernel.invokeFunction('convertToInteractive',\n",
              "                                                     [key], {});\n",
              "          if (!dataTable) return;\n",
              "\n",
              "          const docLinkHtml = 'Like what you see? Visit the ' +\n",
              "            '<a target=\"_blank\" href=https://colab.research.google.com/notebooks/data_table.ipynb>data table notebook</a>'\n",
              "            + ' to learn more about interactive tables.';\n",
              "          element.innerHTML = '';\n",
              "          dataTable['output_type'] = 'display_data';\n",
              "          await google.colab.output.renderOutput(dataTable, element);\n",
              "          const docLink = document.createElement('div');\n",
              "          docLink.innerHTML = docLinkHtml;\n",
              "          element.appendChild(docLink);\n",
              "        }\n",
              "      </script>\n",
              "    </div>\n",
              "  </div>\n",
              "  "
            ]
          },
          "metadata": {},
          "execution_count": 27
        }
      ]
    },
    {
      "cell_type": "markdown",
      "source": [
        "### Evaluation of the Linear Regression Model\n",
        "\n",
        "#### R-Squared\n",
        "The R-squared values for both the Train and Test sets are fairly low. According to the test set R-squared, the linear regression model can use the available features to account for about 56.9% of the variance in the Item Outlet Sales (target). This performance is not particularly good. \n",
        "\n",
        "#### RMSE\n",
        "The RMSE value for the test set using the linear regression model was \\$1091.05. This is a measure of the average error (while punishing larger errors). This is very poor performance when comparing it to the mean item outlet sales of $2181.29. This means that the RMSE is roughly 50% of the average."
      ],
      "metadata": {
        "id": "Zzd_eZ2kSblB"
      }
    },
    {
      "cell_type": "markdown",
      "source": [
        "## Simple Regression Tree Model"
      ],
      "metadata": {
        "id": "bxAIggTYY4YQ"
      }
    },
    {
      "cell_type": "code",
      "source": [
        "# Import content\n",
        "from sklearn.tree import DecisionTreeRegressor"
      ],
      "metadata": {
        "id": "I4ahab5SZKkW"
      },
      "execution_count": 28,
      "outputs": []
    },
    {
      "cell_type": "code",
      "source": [
        "# Instantiate the decision regression tree\n",
        "dec_tree = DecisionTreeRegressor(random_state = 42)\n",
        "\n",
        "# Make decision tree pipeline\n",
        "tree_pipe = make_pipeline(preprocessor, dec_tree)\n",
        "# Don't actually need to scale data for the decision tree but this processor also imputes and ohe encodes\n",
        "\n",
        "# Fit the decision tree to the train data\n",
        "tree_pipe.fit(X_train, y_train)\n"
      ],
      "metadata": {
        "colab": {
          "base_uri": "https://localhost:8080/",
          "height": 227
        },
        "id": "KICfqByhZv2Z",
        "outputId": "795d282d-5abc-434e-cd19-80ded16a4356"
      },
      "execution_count": 29,
      "outputs": [
        {
          "output_type": "execute_result",
          "data": {
            "text/plain": [
              "Pipeline(steps=[('columntransformer',\n",
              "                 ColumnTransformer(transformers=[('onehotencoder',\n",
              "                                                  OneHotEncoder(handle_unknown='ignore',\n",
              "                                                                sparse=False),\n",
              "                                                  <sklearn.compose._column_transformer.make_column_selector object at 0x7f79ff0a1160>),\n",
              "                                                 ('pipeline',\n",
              "                                                  Pipeline(steps=[('simpleimputer',\n",
              "                                                                   SimpleImputer()),\n",
              "                                                                  ('standardscaler',\n",
              "                                                                   StandardScaler())]),\n",
              "                                                  <sklearn.compose._column_transformer.make_column_selector object at 0x7f79ff0a1190>)])),\n",
              "                ('decisiontreeregressor',\n",
              "                 DecisionTreeRegressor(random_state=42))])"
            ],
            "text/html": [
              "<style>#sk-4ab8ad2c-9cf0-440b-9c2b-5450b4e8bd73 {color: black;background-color: white;}#sk-4ab8ad2c-9cf0-440b-9c2b-5450b4e8bd73 pre{padding: 0;}#sk-4ab8ad2c-9cf0-440b-9c2b-5450b4e8bd73 div.sk-toggleable {background-color: white;}#sk-4ab8ad2c-9cf0-440b-9c2b-5450b4e8bd73 label.sk-toggleable__label {cursor: pointer;display: block;width: 100%;margin-bottom: 0;padding: 0.3em;box-sizing: border-box;text-align: center;}#sk-4ab8ad2c-9cf0-440b-9c2b-5450b4e8bd73 label.sk-toggleable__label-arrow:before {content: \"▸\";float: left;margin-right: 0.25em;color: #696969;}#sk-4ab8ad2c-9cf0-440b-9c2b-5450b4e8bd73 label.sk-toggleable__label-arrow:hover:before {color: black;}#sk-4ab8ad2c-9cf0-440b-9c2b-5450b4e8bd73 div.sk-estimator:hover label.sk-toggleable__label-arrow:before {color: black;}#sk-4ab8ad2c-9cf0-440b-9c2b-5450b4e8bd73 div.sk-toggleable__content {max-height: 0;max-width: 0;overflow: hidden;text-align: left;background-color: #f0f8ff;}#sk-4ab8ad2c-9cf0-440b-9c2b-5450b4e8bd73 div.sk-toggleable__content pre {margin: 0.2em;color: black;border-radius: 0.25em;background-color: #f0f8ff;}#sk-4ab8ad2c-9cf0-440b-9c2b-5450b4e8bd73 input.sk-toggleable__control:checked~div.sk-toggleable__content {max-height: 200px;max-width: 100%;overflow: auto;}#sk-4ab8ad2c-9cf0-440b-9c2b-5450b4e8bd73 input.sk-toggleable__control:checked~label.sk-toggleable__label-arrow:before {content: \"▾\";}#sk-4ab8ad2c-9cf0-440b-9c2b-5450b4e8bd73 div.sk-estimator input.sk-toggleable__control:checked~label.sk-toggleable__label {background-color: #d4ebff;}#sk-4ab8ad2c-9cf0-440b-9c2b-5450b4e8bd73 div.sk-label input.sk-toggleable__control:checked~label.sk-toggleable__label {background-color: #d4ebff;}#sk-4ab8ad2c-9cf0-440b-9c2b-5450b4e8bd73 input.sk-hidden--visually {border: 0;clip: rect(1px 1px 1px 1px);clip: rect(1px, 1px, 1px, 1px);height: 1px;margin: -1px;overflow: hidden;padding: 0;position: absolute;width: 1px;}#sk-4ab8ad2c-9cf0-440b-9c2b-5450b4e8bd73 div.sk-estimator {font-family: monospace;background-color: #f0f8ff;border: 1px dotted black;border-radius: 0.25em;box-sizing: border-box;margin-bottom: 0.5em;}#sk-4ab8ad2c-9cf0-440b-9c2b-5450b4e8bd73 div.sk-estimator:hover {background-color: #d4ebff;}#sk-4ab8ad2c-9cf0-440b-9c2b-5450b4e8bd73 div.sk-parallel-item::after {content: \"\";width: 100%;border-bottom: 1px solid gray;flex-grow: 1;}#sk-4ab8ad2c-9cf0-440b-9c2b-5450b4e8bd73 div.sk-label:hover label.sk-toggleable__label {background-color: #d4ebff;}#sk-4ab8ad2c-9cf0-440b-9c2b-5450b4e8bd73 div.sk-serial::before {content: \"\";position: absolute;border-left: 1px solid gray;box-sizing: border-box;top: 2em;bottom: 0;left: 50%;}#sk-4ab8ad2c-9cf0-440b-9c2b-5450b4e8bd73 div.sk-serial {display: flex;flex-direction: column;align-items: center;background-color: white;padding-right: 0.2em;padding-left: 0.2em;}#sk-4ab8ad2c-9cf0-440b-9c2b-5450b4e8bd73 div.sk-item {z-index: 1;}#sk-4ab8ad2c-9cf0-440b-9c2b-5450b4e8bd73 div.sk-parallel {display: flex;align-items: stretch;justify-content: center;background-color: white;}#sk-4ab8ad2c-9cf0-440b-9c2b-5450b4e8bd73 div.sk-parallel::before {content: \"\";position: absolute;border-left: 1px solid gray;box-sizing: border-box;top: 2em;bottom: 0;left: 50%;}#sk-4ab8ad2c-9cf0-440b-9c2b-5450b4e8bd73 div.sk-parallel-item {display: flex;flex-direction: column;position: relative;background-color: white;}#sk-4ab8ad2c-9cf0-440b-9c2b-5450b4e8bd73 div.sk-parallel-item:first-child::after {align-self: flex-end;width: 50%;}#sk-4ab8ad2c-9cf0-440b-9c2b-5450b4e8bd73 div.sk-parallel-item:last-child::after {align-self: flex-start;width: 50%;}#sk-4ab8ad2c-9cf0-440b-9c2b-5450b4e8bd73 div.sk-parallel-item:only-child::after {width: 0;}#sk-4ab8ad2c-9cf0-440b-9c2b-5450b4e8bd73 div.sk-dashed-wrapped {border: 1px dashed gray;margin: 0 0.4em 0.5em 0.4em;box-sizing: border-box;padding-bottom: 0.4em;background-color: white;position: relative;}#sk-4ab8ad2c-9cf0-440b-9c2b-5450b4e8bd73 div.sk-label label {font-family: monospace;font-weight: bold;background-color: white;display: inline-block;line-height: 1.2em;}#sk-4ab8ad2c-9cf0-440b-9c2b-5450b4e8bd73 div.sk-label-container {position: relative;z-index: 2;text-align: center;}#sk-4ab8ad2c-9cf0-440b-9c2b-5450b4e8bd73 div.sk-container {/* jupyter's `normalize.less` sets `[hidden] { display: none; }` but bootstrap.min.css set `[hidden] { display: none !important; }` so we also need the `!important` here to be able to override the default hidden behavior on the sphinx rendered scikit-learn.org. See: https://github.com/scikit-learn/scikit-learn/issues/21755 */display: inline-block !important;position: relative;}#sk-4ab8ad2c-9cf0-440b-9c2b-5450b4e8bd73 div.sk-text-repr-fallback {display: none;}</style><div id=\"sk-4ab8ad2c-9cf0-440b-9c2b-5450b4e8bd73\" class=\"sk-top-container\"><div class=\"sk-text-repr-fallback\"><pre>Pipeline(steps=[(&#x27;columntransformer&#x27;,\n",
              "                 ColumnTransformer(transformers=[(&#x27;onehotencoder&#x27;,\n",
              "                                                  OneHotEncoder(handle_unknown=&#x27;ignore&#x27;,\n",
              "                                                                sparse=False),\n",
              "                                                  &lt;sklearn.compose._column_transformer.make_column_selector object at 0x7f79ff0a1160&gt;),\n",
              "                                                 (&#x27;pipeline&#x27;,\n",
              "                                                  Pipeline(steps=[(&#x27;simpleimputer&#x27;,\n",
              "                                                                   SimpleImputer()),\n",
              "                                                                  (&#x27;standardscaler&#x27;,\n",
              "                                                                   StandardScaler())]),\n",
              "                                                  &lt;sklearn.compose._column_transformer.make_column_selector object at 0x7f79ff0a1190&gt;)])),\n",
              "                (&#x27;decisiontreeregressor&#x27;,\n",
              "                 DecisionTreeRegressor(random_state=42))])</pre><b>Please rerun this cell to show the HTML repr or trust the notebook.</b></div><div class=\"sk-container\" hidden><div class=\"sk-item sk-dashed-wrapped\"><div class=\"sk-label-container\"><div class=\"sk-label sk-toggleable\"><input class=\"sk-toggleable__control sk-hidden--visually\" id=\"e639067c-6d41-40c5-97cc-01a1282e2e4b\" type=\"checkbox\" ><label for=\"e639067c-6d41-40c5-97cc-01a1282e2e4b\" class=\"sk-toggleable__label sk-toggleable__label-arrow\">Pipeline</label><div class=\"sk-toggleable__content\"><pre>Pipeline(steps=[(&#x27;columntransformer&#x27;,\n",
              "                 ColumnTransformer(transformers=[(&#x27;onehotencoder&#x27;,\n",
              "                                                  OneHotEncoder(handle_unknown=&#x27;ignore&#x27;,\n",
              "                                                                sparse=False),\n",
              "                                                  &lt;sklearn.compose._column_transformer.make_column_selector object at 0x7f79ff0a1160&gt;),\n",
              "                                                 (&#x27;pipeline&#x27;,\n",
              "                                                  Pipeline(steps=[(&#x27;simpleimputer&#x27;,\n",
              "                                                                   SimpleImputer()),\n",
              "                                                                  (&#x27;standardscaler&#x27;,\n",
              "                                                                   StandardScaler())]),\n",
              "                                                  &lt;sklearn.compose._column_transformer.make_column_selector object at 0x7f79ff0a1190&gt;)])),\n",
              "                (&#x27;decisiontreeregressor&#x27;,\n",
              "                 DecisionTreeRegressor(random_state=42))])</pre></div></div></div><div class=\"sk-serial\"><div class=\"sk-item sk-dashed-wrapped\"><div class=\"sk-label-container\"><div class=\"sk-label sk-toggleable\"><input class=\"sk-toggleable__control sk-hidden--visually\" id=\"cf0fa682-4da2-4ffc-8c50-e62a8ab1a71e\" type=\"checkbox\" ><label for=\"cf0fa682-4da2-4ffc-8c50-e62a8ab1a71e\" class=\"sk-toggleable__label sk-toggleable__label-arrow\">columntransformer: ColumnTransformer</label><div class=\"sk-toggleable__content\"><pre>ColumnTransformer(transformers=[(&#x27;onehotencoder&#x27;,\n",
              "                                 OneHotEncoder(handle_unknown=&#x27;ignore&#x27;,\n",
              "                                               sparse=False),\n",
              "                                 &lt;sklearn.compose._column_transformer.make_column_selector object at 0x7f79ff0a1160&gt;),\n",
              "                                (&#x27;pipeline&#x27;,\n",
              "                                 Pipeline(steps=[(&#x27;simpleimputer&#x27;,\n",
              "                                                  SimpleImputer()),\n",
              "                                                 (&#x27;standardscaler&#x27;,\n",
              "                                                  StandardScaler())]),\n",
              "                                 &lt;sklearn.compose._column_transformer.make_column_selector object at 0x7f79ff0a1190&gt;)])</pre></div></div></div><div class=\"sk-parallel\"><div class=\"sk-parallel-item\"><div class=\"sk-item\"><div class=\"sk-label-container\"><div class=\"sk-label sk-toggleable\"><input class=\"sk-toggleable__control sk-hidden--visually\" id=\"3b4f8654-6e85-4582-a6c4-fe740d7b0383\" type=\"checkbox\" ><label for=\"3b4f8654-6e85-4582-a6c4-fe740d7b0383\" class=\"sk-toggleable__label sk-toggleable__label-arrow\">onehotencoder</label><div class=\"sk-toggleable__content\"><pre>&lt;sklearn.compose._column_transformer.make_column_selector object at 0x7f79ff0a1160&gt;</pre></div></div></div><div class=\"sk-serial\"><div class=\"sk-item\"><div class=\"sk-estimator sk-toggleable\"><input class=\"sk-toggleable__control sk-hidden--visually\" id=\"0b4ff40d-a51d-482e-b9a0-2a5e6d71a809\" type=\"checkbox\" ><label for=\"0b4ff40d-a51d-482e-b9a0-2a5e6d71a809\" class=\"sk-toggleable__label sk-toggleable__label-arrow\">OneHotEncoder</label><div class=\"sk-toggleable__content\"><pre>OneHotEncoder(handle_unknown=&#x27;ignore&#x27;, sparse=False)</pre></div></div></div></div></div></div><div class=\"sk-parallel-item\"><div class=\"sk-item\"><div class=\"sk-label-container\"><div class=\"sk-label sk-toggleable\"><input class=\"sk-toggleable__control sk-hidden--visually\" id=\"94da1bd4-80cf-4420-ab80-02fa8b8a6fca\" type=\"checkbox\" ><label for=\"94da1bd4-80cf-4420-ab80-02fa8b8a6fca\" class=\"sk-toggleable__label sk-toggleable__label-arrow\">pipeline</label><div class=\"sk-toggleable__content\"><pre>&lt;sklearn.compose._column_transformer.make_column_selector object at 0x7f79ff0a1190&gt;</pre></div></div></div><div class=\"sk-serial\"><div class=\"sk-item\"><div class=\"sk-serial\"><div class=\"sk-item\"><div class=\"sk-estimator sk-toggleable\"><input class=\"sk-toggleable__control sk-hidden--visually\" id=\"2107bcc0-146a-43e5-8c39-13adf064170c\" type=\"checkbox\" ><label for=\"2107bcc0-146a-43e5-8c39-13adf064170c\" class=\"sk-toggleable__label sk-toggleable__label-arrow\">SimpleImputer</label><div class=\"sk-toggleable__content\"><pre>SimpleImputer()</pre></div></div></div><div class=\"sk-item\"><div class=\"sk-estimator sk-toggleable\"><input class=\"sk-toggleable__control sk-hidden--visually\" id=\"549a9ceb-9b6f-4b7d-809a-376b985ef23f\" type=\"checkbox\" ><label for=\"549a9ceb-9b6f-4b7d-809a-376b985ef23f\" class=\"sk-toggleable__label sk-toggleable__label-arrow\">StandardScaler</label><div class=\"sk-toggleable__content\"><pre>StandardScaler()</pre></div></div></div></div></div></div></div></div></div></div><div class=\"sk-item\"><div class=\"sk-estimator sk-toggleable\"><input class=\"sk-toggleable__control sk-hidden--visually\" id=\"052ed756-f7d1-41ab-aee2-0a1978d55f33\" type=\"checkbox\" ><label for=\"052ed756-f7d1-41ab-aee2-0a1978d55f33\" class=\"sk-toggleable__label sk-toggleable__label-arrow\">DecisionTreeRegressor</label><div class=\"sk-toggleable__content\"><pre>DecisionTreeRegressor(random_state=42)</pre></div></div></div></div></div></div></div>"
            ]
          },
          "metadata": {},
          "execution_count": 29
        }
      ]
    },
    {
      "cell_type": "code",
      "source": [
        "# Evaluate the performance \n",
        "train_R2_tree  = tree_pipe.score(X_train, y_train)\n",
        "test_R2_tree  = tree_pipe.score(X_test, y_test)\n",
        "\n",
        "print('Default decision regression tree:')\n",
        "print(f'The R-squared value for the train and test sets are {round(train_R2_tree, 4)} and {round(test_R2_tree, 4)}, respectively')"
      ],
      "metadata": {
        "colab": {
          "base_uri": "https://localhost:8080/"
        },
        "id": "2kbckT_Rbj3V",
        "outputId": "e65bdb3c-5f69-4976-f407-8c7aae81cc82"
      },
      "execution_count": 30,
      "outputs": [
        {
          "output_type": "stream",
          "name": "stdout",
          "text": [
            "Default decision regression tree:\n",
            "The R-squared value for the train and test sets are 1.0 and 0.1944, respectively\n"
          ]
        }
      ]
    },
    {
      "cell_type": "markdown",
      "source": [
        "The difference between the train and test R-squared values indicate significant overfitting of the train data (high variance). This model needs to be optimized. \n"
      ],
      "metadata": {
        "id": "wkvckw-wdKBe"
      }
    },
    {
      "cell_type": "code",
      "source": [
        "# Getting the depth of the default decision tree\n",
        "dec_tree.get_depth()"
      ],
      "metadata": {
        "colab": {
          "base_uri": "https://localhost:8080/"
        },
        "id": "16ESEdPtdYDb",
        "outputId": "2b8f6a07-0fef-48cf-dd97-728585002f91"
      },
      "execution_count": 31,
      "outputs": [
        {
          "output_type": "execute_result",
          "data": {
            "text/plain": [
              "40"
            ]
          },
          "metadata": {},
          "execution_count": 31
        }
      ]
    },
    {
      "cell_type": "code",
      "source": [
        "# Optimize the decision tree\n",
        "depths = range(2, tree_pipe['decisiontreeregressor'].get_depth()+1, 1)\n",
        "scores = pd.DataFrame(index = depths, columns = ['Train R-squared', 'Test R-squared'])\n",
        "\n",
        "for depth in depths:\n",
        "  # initialize\n",
        "  dec_tree_temp = DecisionTreeRegressor(random_state = 42, max_depth = depth)\n",
        "  # make pipeline\n",
        "  tree_pipe_temp = make_pipeline(preprocessor, dec_tree_temp)\n",
        "  # Fit to train data\n",
        "  tree_pipe_temp.fit(X_train, y_train)\n",
        "  # Get R-squared for train and test\n",
        "  train_score = tree_pipe_temp.score(X_train, y_train)\n",
        "  test_score = tree_pipe_temp.score(X_test, y_test)\n",
        "  # Add to scores dataframe\n",
        "  scores.loc[depth, 'Train R-squared'] = train_score\n",
        "  scores.loc[depth, 'Test R-squared'] = test_score\n"
      ],
      "metadata": {
        "id": "TCv1h0IVduhL"
      },
      "execution_count": 34,
      "outputs": []
    },
    {
      "cell_type": "code",
      "source": [
        "sorted_scores = scores.sort_values(by = 'Test R-squared', ascending = False)\n",
        "sorted_scores.head()"
      ],
      "metadata": {
        "colab": {
          "base_uri": "https://localhost:8080/",
          "height": 206
        },
        "id": "CWtEVllCfQg1",
        "outputId": "9c3abae2-aab0-47b8-979c-a64c6bd16952"
      },
      "execution_count": 35,
      "outputs": [
        {
          "output_type": "execute_result",
          "data": {
            "text/plain": [
              "  Train R-squared Test R-squared\n",
              "5        0.603929       0.594725\n",
              "4        0.582625       0.584005\n",
              "6        0.615149       0.582271\n",
              "7        0.626838       0.576759\n",
              "8        0.644024        0.55837"
            ],
            "text/html": [
              "\n",
              "  <div id=\"df-9d82dc5e-eef3-4b08-af51-e583bd5c9a9c\">\n",
              "    <div class=\"colab-df-container\">\n",
              "      <div>\n",
              "<style scoped>\n",
              "    .dataframe tbody tr th:only-of-type {\n",
              "        vertical-align: middle;\n",
              "    }\n",
              "\n",
              "    .dataframe tbody tr th {\n",
              "        vertical-align: top;\n",
              "    }\n",
              "\n",
              "    .dataframe thead th {\n",
              "        text-align: right;\n",
              "    }\n",
              "</style>\n",
              "<table border=\"1\" class=\"dataframe\">\n",
              "  <thead>\n",
              "    <tr style=\"text-align: right;\">\n",
              "      <th></th>\n",
              "      <th>Train R-squared</th>\n",
              "      <th>Test R-squared</th>\n",
              "    </tr>\n",
              "  </thead>\n",
              "  <tbody>\n",
              "    <tr>\n",
              "      <th>5</th>\n",
              "      <td>0.603929</td>\n",
              "      <td>0.594725</td>\n",
              "    </tr>\n",
              "    <tr>\n",
              "      <th>4</th>\n",
              "      <td>0.582625</td>\n",
              "      <td>0.584005</td>\n",
              "    </tr>\n",
              "    <tr>\n",
              "      <th>6</th>\n",
              "      <td>0.615149</td>\n",
              "      <td>0.582271</td>\n",
              "    </tr>\n",
              "    <tr>\n",
              "      <th>7</th>\n",
              "      <td>0.626838</td>\n",
              "      <td>0.576759</td>\n",
              "    </tr>\n",
              "    <tr>\n",
              "      <th>8</th>\n",
              "      <td>0.644024</td>\n",
              "      <td>0.55837</td>\n",
              "    </tr>\n",
              "  </tbody>\n",
              "</table>\n",
              "</div>\n",
              "      <button class=\"colab-df-convert\" onclick=\"convertToInteractive('df-9d82dc5e-eef3-4b08-af51-e583bd5c9a9c')\"\n",
              "              title=\"Convert this dataframe to an interactive table.\"\n",
              "              style=\"display:none;\">\n",
              "        \n",
              "  <svg xmlns=\"http://www.w3.org/2000/svg\" height=\"24px\"viewBox=\"0 0 24 24\"\n",
              "       width=\"24px\">\n",
              "    <path d=\"M0 0h24v24H0V0z\" fill=\"none\"/>\n",
              "    <path d=\"M18.56 5.44l.94 2.06.94-2.06 2.06-.94-2.06-.94-.94-2.06-.94 2.06-2.06.94zm-11 1L8.5 8.5l.94-2.06 2.06-.94-2.06-.94L8.5 2.5l-.94 2.06-2.06.94zm10 10l.94 2.06.94-2.06 2.06-.94-2.06-.94-.94-2.06-.94 2.06-2.06.94z\"/><path d=\"M17.41 7.96l-1.37-1.37c-.4-.4-.92-.59-1.43-.59-.52 0-1.04.2-1.43.59L10.3 9.45l-7.72 7.72c-.78.78-.78 2.05 0 2.83L4 21.41c.39.39.9.59 1.41.59.51 0 1.02-.2 1.41-.59l7.78-7.78 2.81-2.81c.8-.78.8-2.07 0-2.86zM5.41 20L4 18.59l7.72-7.72 1.47 1.35L5.41 20z\"/>\n",
              "  </svg>\n",
              "      </button>\n",
              "      \n",
              "  <style>\n",
              "    .colab-df-container {\n",
              "      display:flex;\n",
              "      flex-wrap:wrap;\n",
              "      gap: 12px;\n",
              "    }\n",
              "\n",
              "    .colab-df-convert {\n",
              "      background-color: #E8F0FE;\n",
              "      border: none;\n",
              "      border-radius: 50%;\n",
              "      cursor: pointer;\n",
              "      display: none;\n",
              "      fill: #1967D2;\n",
              "      height: 32px;\n",
              "      padding: 0 0 0 0;\n",
              "      width: 32px;\n",
              "    }\n",
              "\n",
              "    .colab-df-convert:hover {\n",
              "      background-color: #E2EBFA;\n",
              "      box-shadow: 0px 1px 2px rgba(60, 64, 67, 0.3), 0px 1px 3px 1px rgba(60, 64, 67, 0.15);\n",
              "      fill: #174EA6;\n",
              "    }\n",
              "\n",
              "    [theme=dark] .colab-df-convert {\n",
              "      background-color: #3B4455;\n",
              "      fill: #D2E3FC;\n",
              "    }\n",
              "\n",
              "    [theme=dark] .colab-df-convert:hover {\n",
              "      background-color: #434B5C;\n",
              "      box-shadow: 0px 1px 3px 1px rgba(0, 0, 0, 0.15);\n",
              "      filter: drop-shadow(0px 1px 2px rgba(0, 0, 0, 0.3));\n",
              "      fill: #FFFFFF;\n",
              "    }\n",
              "  </style>\n",
              "\n",
              "      <script>\n",
              "        const buttonEl =\n",
              "          document.querySelector('#df-9d82dc5e-eef3-4b08-af51-e583bd5c9a9c button.colab-df-convert');\n",
              "        buttonEl.style.display =\n",
              "          google.colab.kernel.accessAllowed ? 'block' : 'none';\n",
              "\n",
              "        async function convertToInteractive(key) {\n",
              "          const element = document.querySelector('#df-9d82dc5e-eef3-4b08-af51-e583bd5c9a9c');\n",
              "          const dataTable =\n",
              "            await google.colab.kernel.invokeFunction('convertToInteractive',\n",
              "                                                     [key], {});\n",
              "          if (!dataTable) return;\n",
              "\n",
              "          const docLinkHtml = 'Like what you see? Visit the ' +\n",
              "            '<a target=\"_blank\" href=https://colab.research.google.com/notebooks/data_table.ipynb>data table notebook</a>'\n",
              "            + ' to learn more about interactive tables.';\n",
              "          element.innerHTML = '';\n",
              "          dataTable['output_type'] = 'display_data';\n",
              "          await google.colab.output.renderOutput(dataTable, element);\n",
              "          const docLink = document.createElement('div');\n",
              "          docLink.innerHTML = docLinkHtml;\n",
              "          element.appendChild(docLink);\n",
              "        }\n",
              "      </script>\n",
              "    </div>\n",
              "  </div>\n",
              "  "
            ]
          },
          "metadata": {},
          "execution_count": 35
        }
      ]
    },
    {
      "cell_type": "code",
      "source": [
        "#Plotting the performance vs the depth \n",
        "import matplotlib.pyplot as plt\n",
        "import seaborn as sns\n",
        "\n",
        "plt.figure()\n",
        "sns.lineplot(x = scores.index, y = scores['Test R-squared'], label = 'Test R-squared');\n",
        "sns.lineplot(x = scores.index, y = scores['Train R-squared'], label = 'Train R-squared');\n",
        "plt.ylabel('R-squared');\n",
        "plt.xlabel('Depth');\n",
        "plt.title('R-squared vs Model Depth');\n",
        "plt.legend();"
      ],
      "metadata": {
        "colab": {
          "base_uri": "https://localhost:8080/",
          "height": 295
        },
        "id": "jKa9_BDsUjHQ",
        "outputId": "9d60ae75-c5f6-4b96-c56e-41c3ca4209e7"
      },
      "execution_count": 45,
      "outputs": [
        {
          "output_type": "display_data",
          "data": {
            "text/plain": [
              "<Figure size 432x288 with 1 Axes>"
            ],
            "image/png": "[encoded data removed]"
          },
          "metadata": {
            "needs_background": "light"
          }
        }
      ]
    },
    {
      "cell_type": "markdown",
      "source": [
        "The optimal tree depth is 5 for the single decision tree. The final decision tree depth will be set to 5. As the depth increases, the model tends to overfit on the train data leading to high variance in the model. "
      ],
      "metadata": {
        "id": "n5WEBMRuRkPZ"
      }
    },
    {
      "cell_type": "code",
      "source": [
        "# Using the optimized depth, remaking the decision tree\n",
        "dec_tree_final  = DecisionTreeRegressor(random_state = 42, max_depth = sorted_scores.index[0])\n",
        "\n",
        "# Making the pipeline\n",
        "tree_pipe_final = make_pipeline(preprocessor, dec_tree_final)\n",
        "\n",
        "# Fit final pipeline to the train data\n",
        "tree_pipe_final.fit(X_train, y_train)"
      ],
      "metadata": {
        "colab": {
          "base_uri": "https://localhost:8080/",
          "height": 227
        },
        "id": "jJqL-tLwR93Z",
        "outputId": "c81eb332-df54-4ebc-da12-d0e507a1ebc3"
      },
      "execution_count": 37,
      "outputs": [
        {
          "output_type": "execute_result",
          "data": {
            "text/plain": [
              "Pipeline(steps=[('columntransformer',\n",
              "                 ColumnTransformer(transformers=[('onehotencoder',\n",
              "                                                  OneHotEncoder(handle_unknown='ignore',\n",
              "                                                                sparse=False),\n",
              "                                                  <sklearn.compose._column_transformer.make_column_selector object at 0x7f79ff0a1160>),\n",
              "                                                 ('pipeline',\n",
              "                                                  Pipeline(steps=[('simpleimputer',\n",
              "                                                                   SimpleImputer()),\n",
              "                                                                  ('standardscaler',\n",
              "                                                                   StandardScaler())]),\n",
              "                                                  <sklearn.compose._column_transformer.make_column_selector object at 0x7f79ff0a1190>)])),\n",
              "                ('decisiontreeregressor',\n",
              "                 DecisionTreeRegressor(max_depth=5, random_state=42))])"
            ],
            "text/html": [
              "<style>#sk-6aa19032-e54b-43cc-a04e-c462c672c712 {color: black;background-color: white;}#sk-6aa19032-e54b-43cc-a04e-c462c672c712 pre{padding: 0;}#sk-6aa19032-e54b-43cc-a04e-c462c672c712 div.sk-toggleable {background-color: white;}#sk-6aa19032-e54b-43cc-a04e-c462c672c712 label.sk-toggleable__label {cursor: pointer;display: block;width: 100%;margin-bottom: 0;padding: 0.3em;box-sizing: border-box;text-align: center;}#sk-6aa19032-e54b-43cc-a04e-c462c672c712 label.sk-toggleable__label-arrow:before {content: \"▸\";float: left;margin-right: 0.25em;color: #696969;}#sk-6aa19032-e54b-43cc-a04e-c462c672c712 label.sk-toggleable__label-arrow:hover:before {color: black;}#sk-6aa19032-e54b-43cc-a04e-c462c672c712 div.sk-estimator:hover label.sk-toggleable__label-arrow:before {color: black;}#sk-6aa19032-e54b-43cc-a04e-c462c672c712 div.sk-toggleable__content {max-height: 0;max-width: 0;overflow: hidden;text-align: left;background-color: #f0f8ff;}#sk-6aa19032-e54b-43cc-a04e-c462c672c712 div.sk-toggleable__content pre {margin: 0.2em;color: black;border-radius: 0.25em;background-color: #f0f8ff;}#sk-6aa19032-e54b-43cc-a04e-c462c672c712 input.sk-toggleable__control:checked~div.sk-toggleable__content {max-height: 200px;max-width: 100%;overflow: auto;}#sk-6aa19032-e54b-43cc-a04e-c462c672c712 input.sk-toggleable__control:checked~label.sk-toggleable__label-arrow:before {content: \"▾\";}#sk-6aa19032-e54b-43cc-a04e-c462c672c712 div.sk-estimator input.sk-toggleable__control:checked~label.sk-toggleable__label {background-color: #d4ebff;}#sk-6aa19032-e54b-43cc-a04e-c462c672c712 div.sk-label input.sk-toggleable__control:checked~label.sk-toggleable__label {background-color: #d4ebff;}#sk-6aa19032-e54b-43cc-a04e-c462c672c712 input.sk-hidden--visually {border: 0;clip: rect(1px 1px 1px 1px);clip: rect(1px, 1px, 1px, 1px);height: 1px;margin: -1px;overflow: hidden;padding: 0;position: absolute;width: 1px;}#sk-6aa19032-e54b-43cc-a04e-c462c672c712 div.sk-estimator {font-family: monospace;background-color: #f0f8ff;border: 1px dotted black;border-radius: 0.25em;box-sizing: border-box;margin-bottom: 0.5em;}#sk-6aa19032-e54b-43cc-a04e-c462c672c712 div.sk-estimator:hover {background-color: #d4ebff;}#sk-6aa19032-e54b-43cc-a04e-c462c672c712 div.sk-parallel-item::after {content: \"\";width: 100%;border-bottom: 1px solid gray;flex-grow: 1;}#sk-6aa19032-e54b-43cc-a04e-c462c672c712 div.sk-label:hover label.sk-toggleable__label {background-color: #d4ebff;}#sk-6aa19032-e54b-43cc-a04e-c462c672c712 div.sk-serial::before {content: \"\";position: absolute;border-left: 1px solid gray;box-sizing: border-box;top: 2em;bottom: 0;left: 50%;}#sk-6aa19032-e54b-43cc-a04e-c462c672c712 div.sk-serial {display: flex;flex-direction: column;align-items: center;background-color: white;padding-right: 0.2em;padding-left: 0.2em;}#sk-6aa19032-e54b-43cc-a04e-c462c672c712 div.sk-item {z-index: 1;}#sk-6aa19032-e54b-43cc-a04e-c462c672c712 div.sk-parallel {display: flex;align-items: stretch;justify-content: center;background-color: white;}#sk-6aa19032-e54b-43cc-a04e-c462c672c712 div.sk-parallel::before {content: \"\";position: absolute;border-left: 1px solid gray;box-sizing: border-box;top: 2em;bottom: 0;left: 50%;}#sk-6aa19032-e54b-43cc-a04e-c462c672c712 div.sk-parallel-item {display: flex;flex-direction: column;position: relative;background-color: white;}#sk-6aa19032-e54b-43cc-a04e-c462c672c712 div.sk-parallel-item:first-child::after {align-self: flex-end;width: 50%;}#sk-6aa19032-e54b-43cc-a04e-c462c672c712 div.sk-parallel-item:last-child::after {align-self: flex-start;width: 50%;}#sk-6aa19032-e54b-43cc-a04e-c462c672c712 div.sk-parallel-item:only-child::after {width: 0;}#sk-6aa19032-e54b-43cc-a04e-c462c672c712 div.sk-dashed-wrapped {border: 1px dashed gray;margin: 0 0.4em 0.5em 0.4em;box-sizing: border-box;padding-bottom: 0.4em;background-color: white;position: relative;}#sk-6aa19032-e54b-43cc-a04e-c462c672c712 div.sk-label label {font-family: monospace;font-weight: bold;background-color: white;display: inline-block;line-height: 1.2em;}#sk-6aa19032-e54b-43cc-a04e-c462c672c712 div.sk-label-container {position: relative;z-index: 2;text-align: center;}#sk-6aa19032-e54b-43cc-a04e-c462c672c712 div.sk-container {/* jupyter's `normalize.less` sets `[hidden] { display: none; }` but bootstrap.min.css set `[hidden] { display: none !important; }` so we also need the `!important` here to be able to override the default hidden behavior on the sphinx rendered scikit-learn.org. See: https://github.com/scikit-learn/scikit-learn/issues/21755 */display: inline-block !important;position: relative;}#sk-6aa19032-e54b-43cc-a04e-c462c672c712 div.sk-text-repr-fallback {display: none;}</style><div id=\"sk-6aa19032-e54b-43cc-a04e-c462c672c712\" class=\"sk-top-container\"><div class=\"sk-text-repr-fallback\"><pre>Pipeline(steps=[(&#x27;columntransformer&#x27;,\n",
              "                 ColumnTransformer(transformers=[(&#x27;onehotencoder&#x27;,\n",
              "                                                  OneHotEncoder(handle_unknown=&#x27;ignore&#x27;,\n",
              "                                                                sparse=False),\n",
              "                                                  &lt;sklearn.compose._column_transformer.make_column_selector object at 0x7f79ff0a1160&gt;),\n",
              "                                                 (&#x27;pipeline&#x27;,\n",
              "                                                  Pipeline(steps=[(&#x27;simpleimputer&#x27;,\n",
              "                                                                   SimpleImputer()),\n",
              "                                                                  (&#x27;standardscaler&#x27;,\n",
              "                                                                   StandardScaler())]),\n",
              "                                                  &lt;sklearn.compose._column_transformer.make_column_selector object at 0x7f79ff0a1190&gt;)])),\n",
              "                (&#x27;decisiontreeregressor&#x27;,\n",
              "                 DecisionTreeRegressor(max_depth=5, random_state=42))])</pre><b>Please rerun this cell to show the HTML repr or trust the notebook.</b></div><div class=\"sk-container\" hidden><div class=\"sk-item sk-dashed-wrapped\"><div class=\"sk-label-container\"><div class=\"sk-label sk-toggleable\"><input class=\"sk-toggleable__control sk-hidden--visually\" id=\"da8c9111-cb37-4e2a-8df8-db1ca99315fa\" type=\"checkbox\" ><label for=\"da8c9111-cb37-4e2a-8df8-db1ca99315fa\" class=\"sk-toggleable__label sk-toggleable__label-arrow\">Pipeline</label><div class=\"sk-toggleable__content\"><pre>Pipeline(steps=[(&#x27;columntransformer&#x27;,\n",
              "                 ColumnTransformer(transformers=[(&#x27;onehotencoder&#x27;,\n",
              "                                                  OneHotEncoder(handle_unknown=&#x27;ignore&#x27;,\n",
              "                                                                sparse=False),\n",
              "                                                  &lt;sklearn.compose._column_transformer.make_column_selector object at 0x7f79ff0a1160&gt;),\n",
              "                                                 (&#x27;pipeline&#x27;,\n",
              "                                                  Pipeline(steps=[(&#x27;simpleimputer&#x27;,\n",
              "                                                                   SimpleImputer()),\n",
              "                                                                  (&#x27;standardscaler&#x27;,\n",
              "                                                                   StandardScaler())]),\n",
              "                                                  &lt;sklearn.compose._column_transformer.make_column_selector object at 0x7f79ff0a1190&gt;)])),\n",
              "                (&#x27;decisiontreeregressor&#x27;,\n",
              "                 DecisionTreeRegressor(max_depth=5, random_state=42))])</pre></div></div></div><div class=\"sk-serial\"><div class=\"sk-item sk-dashed-wrapped\"><div class=\"sk-label-container\"><div class=\"sk-label sk-toggleable\"><input class=\"sk-toggleable__control sk-hidden--visually\" id=\"074a1e1c-cbd7-4435-835f-e3fde114c383\" type=\"checkbox\" ><label for=\"074a1e1c-cbd7-4435-835f-e3fde114c383\" class=\"sk-toggleable__label sk-toggleable__label-arrow\">columntransformer: ColumnTransformer</label><div class=\"sk-toggleable__content\"><pre>ColumnTransformer(transformers=[(&#x27;onehotencoder&#x27;,\n",
              "                                 OneHotEncoder(handle_unknown=&#x27;ignore&#x27;,\n",
              "                                               sparse=False),\n",
              "                                 &lt;sklearn.compose._column_transformer.make_column_selector object at 0x7f79ff0a1160&gt;),\n",
              "                                (&#x27;pipeline&#x27;,\n",
              "                                 Pipeline(steps=[(&#x27;simpleimputer&#x27;,\n",
              "                                                  SimpleImputer()),\n",
              "                                                 (&#x27;standardscaler&#x27;,\n",
              "                                                  StandardScaler())]),\n",
              "                                 &lt;sklearn.compose._column_transformer.make_column_selector object at 0x7f79ff0a1190&gt;)])</pre></div></div></div><div class=\"sk-parallel\"><div class=\"sk-parallel-item\"><div class=\"sk-item\"><div class=\"sk-label-container\"><div class=\"sk-label sk-toggleable\"><input class=\"sk-toggleable__control sk-hidden--visually\" id=\"33369e92-ce81-4116-8cdc-17a258b1638e\" type=\"checkbox\" ><label for=\"33369e92-ce81-4116-8cdc-17a258b1638e\" class=\"sk-toggleable__label sk-toggleable__label-arrow\">onehotencoder</label><div class=\"sk-toggleable__content\"><pre>&lt;sklearn.compose._column_transformer.make_column_selector object at 0x7f79ff0a1160&gt;</pre></div></div></div><div class=\"sk-serial\"><div class=\"sk-item\"><div class=\"sk-estimator sk-toggleable\"><input class=\"sk-toggleable__control sk-hidden--visually\" id=\"0d40d766-16f4-4388-8bc5-d9d36c0f4af9\" type=\"checkbox\" ><label for=\"0d40d766-16f4-4388-8bc5-d9d36c0f4af9\" class=\"sk-toggleable__label sk-toggleable__label-arrow\">OneHotEncoder</label><div class=\"sk-toggleable__content\"><pre>OneHotEncoder(handle_unknown=&#x27;ignore&#x27;, sparse=False)</pre></div></div></div></div></div></div><div class=\"sk-parallel-item\"><div class=\"sk-item\"><div class=\"sk-label-container\"><div class=\"sk-label sk-toggleable\"><input class=\"sk-toggleable__control sk-hidden--visually\" id=\"6cbeaefa-e17b-4665-b4b7-619a75429dd5\" type=\"checkbox\" ><label for=\"6cbeaefa-e17b-4665-b4b7-619a75429dd5\" class=\"sk-toggleable__label sk-toggleable__label-arrow\">pipeline</label><div class=\"sk-toggleable__content\"><pre>&lt;sklearn.compose._column_transformer.make_column_selector object at 0x7f79ff0a1190&gt;</pre></div></div></div><div class=\"sk-serial\"><div class=\"sk-item\"><div class=\"sk-serial\"><div class=\"sk-item\"><div class=\"sk-estimator sk-toggleable\"><input class=\"sk-toggleable__control sk-hidden--visually\" id=\"f9eb0778-5e1e-49aa-aca2-b3ea8b9f94ef\" type=\"checkbox\" ><label for=\"f9eb0778-5e1e-49aa-aca2-b3ea8b9f94ef\" class=\"sk-toggleable__label sk-toggleable__label-arrow\">SimpleImputer</label><div class=\"sk-toggleable__content\"><pre>SimpleImputer()</pre></div></div></div><div class=\"sk-item\"><div class=\"sk-estimator sk-toggleable\"><input class=\"sk-toggleable__control sk-hidden--visually\" id=\"dc5b6306-337a-4472-99af-7eb909a29f7d\" type=\"checkbox\" ><label for=\"dc5b6306-337a-4472-99af-7eb909a29f7d\" class=\"sk-toggleable__label sk-toggleable__label-arrow\">StandardScaler</label><div class=\"sk-toggleable__content\"><pre>StandardScaler()</pre></div></div></div></div></div></div></div></div></div></div><div class=\"sk-item\"><div class=\"sk-estimator sk-toggleable\"><input class=\"sk-toggleable__control sk-hidden--visually\" id=\"e52c09d5-4f68-4441-adc3-343d2d124d01\" type=\"checkbox\" ><label for=\"e52c09d5-4f68-4441-adc3-343d2d124d01\" class=\"sk-toggleable__label sk-toggleable__label-arrow\">DecisionTreeRegressor</label><div class=\"sk-toggleable__content\"><pre>DecisionTreeRegressor(max_depth=5, random_state=42)</pre></div></div></div></div></div></div></div>"
            ]
          },
          "metadata": {},
          "execution_count": 37
        }
      ]
    },
    {
      "cell_type": "code",
      "source": [
        "# Calculate R-squared\n",
        "train_R2_tree_final  = tree_pipe_final.score(X_train, y_train)\n",
        "test_R2_tree_final  = tree_pipe_final.score(X_test, y_test)\n",
        "\n",
        "# Display R-squared\n",
        "print('Decision regression tree w/max depth of 5:')\n",
        "print(f'The R-squared value for the train and test sets are {round(train_R2_tree_final, 4)} and {round(test_R2_tree_final, 4)} \\n')\n",
        "\n",
        "# Calculate RMSE\n",
        "train_pred_tree = tree_pipe_final.predict(X_train)\n",
        "test_pred_tree = tree_pipe_final.predict(X_test)\n",
        "\n",
        "train_RMSE_tree = np.sqrt(mean_squared_error(y_train, train_pred_tree))\n",
        "test_RMSE_tree = np.sqrt(mean_squared_error(y_test, test_pred_tree))\n",
        "\n",
        "# Display RMSE\n",
        "print('Decision regression tree w/max depth of 5:')\n",
        "print(f'The RMSE value for the train and test sets are {round(train_RMSE_tree, 2)} and {round(test_RMSE_tree, 2)}')\n",
        "\n"
      ],
      "metadata": {
        "colab": {
          "base_uri": "https://localhost:8080/"
        },
        "id": "mPZtqiGdSnWM",
        "outputId": "5c01353f-962f-40c9-934f-7b3f581a980a"
      },
      "execution_count": 46,
      "outputs": [
        {
          "output_type": "stream",
          "name": "stdout",
          "text": [
            "Decision regression tree w/max depth of 5:\n",
            "The R-squared value for the train and test sets are 0.6039 and 0.5947 \n",
            "\n",
            "Decision regression tree w/max depth of 5:\n",
            "The RMSE value for the train and test sets are 1082.66 and 1057.42\n"
          ]
        }
      ]
    },
    {
      "cell_type": "markdown",
      "source": [
        "## Model Recommendation\n",
        "The recommended model is the decision regression tree over the linear regression. \n",
        "\n",
        "Overall, the single decision regression tree performed slightly better than the linear regression in both R-squared and RMSE calculated from the test set. \n",
        "\n",
        "The test set R-squared for the single decision tree was 0.5947 while the same metric for the linear regression model was 0.5685. The higher value for decision tree indicates that the model better can better explain the variance in the item outlet sales with the available features. \n",
        "\n",
        "The test set RMSE for the decision tree was \\$1057.42, the same metric for the linear regression was $1091.05. These are very close in value but there is still a slight edge for the decision tree. Overall, the decision tree predicts with slightly lower residuals.\n",
        "\n"
      ],
      "metadata": {
        "id": "WlIrKFwVWT7u"
      }
    }
  ]
}