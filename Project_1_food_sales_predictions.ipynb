{
  "nbformat": 4,
  "nbformat_minor": 0,
  "metadata": {
    "colab": {
      "provenance": [],
      "authorship_tag": "ABX9TyOM975DKg3jC72VC7NiInYr",
      "include_colab_link": true
    },
    "kernelspec": {
      "name": "python3",
      "display_name": "Python 3"
    },
    "language_info": {
      "name": "python"
    }
  },
  "cells": [
    {
      "cell_type": "markdown",
      "metadata": {
        "id": "view-in-github",
        "colab_type": "text"
      },
      "source": [
        "<a href=\"https://colab.research.google.com/github/JLMuehlbauer/food-sales-prediction/blob/main/Project_1_food_sales_predictions.ipynb\" target=\"_parent\"><img src=\"https://colab.research.google.com/assets/colab-badge.svg\" alt=\"Open In Colab\"/></a>"
      ]
    },
    {
      "cell_type": "markdown",
      "source": [
        "#Food Sales Predictions\n",
        "---\n",
        "#Project 1: Part 1\n",
        "Jackson Muehlbauer"
      ],
      "metadata": {
        "id": "jkrYm6iFKA4M"
      }
    },
    {
      "cell_type": "code",
      "source": [],
      "metadata": {
        "id": "UaEyhkD6Kpdf"
      },
      "execution_count": null,
      "outputs": []
    },
    {
      "cell_type": "markdown",
      "source": [
        "##Loading Data"
      ],
      "metadata": {
        "id": "HrucGuCHKqdJ"
      }
    },
    {
      "cell_type": "code",
      "source": [],
      "metadata": {
        "id": "KQ3iLs11KvCV"
      },
      "execution_count": null,
      "outputs": []
    },
    {
      "cell_type": "markdown",
      "source": [
        "##Data Cleaning"
      ],
      "metadata": {
        "id": "LpwrOFJsKv7J"
      }
    },
    {
      "cell_type": "code",
      "source": [],
      "metadata": {
        "id": "3bukQXbEKymH"
      },
      "execution_count": null,
      "outputs": []
    },
    {
      "cell_type": "markdown",
      "source": [
        "##Exploratory Visuals"
      ],
      "metadata": {
        "id": "pYhMke5fKzI0"
      }
    },
    {
      "cell_type": "code",
      "source": [],
      "metadata": {
        "id": "LYh9tVIuK7F2"
      },
      "execution_count": null,
      "outputs": []
    },
    {
      "cell_type": "markdown",
      "source": [
        "##Explanatory Visuals"
      ],
      "metadata": {
        "id": "MvMgK6_hK7Sd"
      }
    },
    {
      "cell_type": "code",
      "source": [],
      "metadata": {
        "id": "9A4pguf-K_F_"
      },
      "execution_count": null,
      "outputs": []
    }
  ]
}